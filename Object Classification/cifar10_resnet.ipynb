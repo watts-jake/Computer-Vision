{
  "nbformat": 4,
  "nbformat_minor": 0,
  "metadata": {
    "colab": {
      "name": "cifar10_resnet.ipynb",
      "provenance": []
    },
    "kernelspec": {
      "name": "python3",
      "display_name": "Python 3"
    },
    "language_info": {
      "name": "python"
    },
    "accelerator": "GPU"
  },
  "cells": [
    {
      "cell_type": "markdown",
      "metadata": {
        "id": "xtxti_UX5rIp"
      },
      "source": [
        "# Biweekly Report\n",
        "\n",
        "# Jake Watts\n",
        "\n",
        "# Random Erasing + ResNet"
      ]
    },
    {
      "cell_type": "markdown",
      "metadata": {
        "id": "uciar1UEv8tT"
      },
      "source": [
        "Here I use code from the github page for random erasing implementation in Tensorflow (https://github.com/yu4u/cutout-random-erasing/blob/master/random_eraser.py). My goal with this section the report is simply to learn how to implement random erasing into a model using a Keras framework. In this case the model used is ResNet and is a much deeper model than I used for MNIST.\n",
        "\n",
        "The author of the github page implemented the ResNet model without random erasing, then with random erasing and thgen finally pixel-level random erasing. They found that the testing accuracies on this dataset were 0.9077, 0.9182 and 0.9213 respectively. Demonstrating that random erasing helped improve model performance. \n",
        "\n",
        "After going through this code I hope to implement it in a similar way by testing the effect of random erasing using a MLP-Mixer model to see if it also improves performance."
      ]
    },
    {
      "cell_type": "code",
      "metadata": {
        "id": "Q2JRoBsb5pug"
      },
      "source": [
        "from __future__ import print_function\n",
        "import keras\n",
        "from keras.layers import Dense, Conv2D, BatchNormalization, Activation\n",
        "from keras.layers import MaxPooling2D, AveragePooling2D, Input, Flatten\n",
        "from tensorflow.keras.optimizers import Adam\n",
        "from tensorflow.keras.utils import to_categorical\n",
        "from keras.callbacks import ModelCheckpoint, ReduceLROnPlateau\n",
        "from keras.preprocessing.image import ImageDataGenerator\n",
        "from keras.regularizers import l2\n",
        "from keras import backend as K\n",
        "from keras.models import Model\n",
        "from keras.datasets import cifar10\n",
        "import numpy as np\n",
        "import os"
      ],
      "execution_count": null,
      "outputs": []
    },
    {
      "cell_type": "markdown",
      "metadata": {
        "id": "TeRCs_sfyXYM"
      },
      "source": [
        "Below is the function used for random erasing of the image."
      ]
    },
    {
      "cell_type": "code",
      "metadata": {
        "id": "vHFzF0tbQbLP"
      },
      "source": [
        "def get_random_eraser(p=0.5, s_l=0.02, s_h=0.4, r_1=0.3, r_2=1/0.3, v_l=0, v_h=255, pixel_level=False):\n",
        "    def eraser(input_img):\n",
        "        if input_img.ndim == 3:\n",
        "            img_h, img_w, img_c = input_img.shape\n",
        "        elif input_img.ndim == 2:\n",
        "            img_h, img_w = input_img.shape\n",
        "\n",
        "        p_1 = np.random.rand()\n",
        "\n",
        "        if p_1 > p:\n",
        "            return input_img\n",
        "\n",
        "        while True:\n",
        "            s = np.random.uniform(s_l, s_h) * img_h * img_w\n",
        "            r = np.random.uniform(r_1, r_2)\n",
        "            w = int(np.sqrt(s / r))\n",
        "            h = int(np.sqrt(s * r))\n",
        "            left = np.random.randint(0, img_w)\n",
        "            top = np.random.randint(0, img_h)\n",
        "\n",
        "            if left + w <= img_w and top + h <= img_h:\n",
        "                break\n",
        "\n",
        "        if pixel_level:\n",
        "            if input_img.ndim == 3:\n",
        "                c = np.random.uniform(v_l, v_h, (h, w, img_c))\n",
        "            if input_img.ndim == 2:\n",
        "                c = np.random.uniform(v_l, v_h, (h, w))\n",
        "        else:\n",
        "            c = np.random.uniform(v_l, v_h)\n",
        "\n",
        "        input_img[top:top + h, left:left + w] = c\n",
        "\n",
        "        return input_img\n",
        "\n",
        "    return eraser"
      ],
      "execution_count": null,
      "outputs": []
    },
    {
      "cell_type": "markdown",
      "metadata": {
        "id": "teoRSPO01Y8r"
      },
      "source": [
        "The following code sets the parameters for training and the network architecture."
      ]
    },
    {
      "cell_type": "code",
      "metadata": {
        "id": "cDzsgcM9UKzC"
      },
      "source": [
        "# Training params.\n",
        "batch_size = 32\n",
        "epochs = 100\n",
        "data_augmentation = True\n",
        "random_erasing = True\n",
        "pixel_level = False\n",
        "\n",
        "# Network architecture params.\n",
        "num_classes = 10\n",
        "num_filters = 64\n",
        "num_blocks = 4\n",
        "num_sub_blocks = 2\n",
        "use_max_pool = False"
      ],
      "execution_count": null,
      "outputs": []
    },
    {
      "cell_type": "markdown",
      "metadata": {
        "id": "ybgPOjhY1f4T"
      },
      "source": [
        "Loading the testing and training data."
      ]
    },
    {
      "cell_type": "code",
      "metadata": {
        "colab": {
          "base_uri": "https://localhost:8080/"
        },
        "id": "KhkFAUvZUK8w",
        "outputId": "e9a53322-e829-48cf-f74a-952f9637410d"
      },
      "source": [
        "(x_train, y_train), (x_test, y_test) = cifar10.load_data()"
      ],
      "execution_count": null,
      "outputs": [
        {
          "output_type": "stream",
          "name": "stdout",
          "text": [
            "Downloading data from https://www.cs.toronto.edu/~kriz/cifar-10-python.tar.gz\n",
            "170500096/170498071 [==============================] - 2s 0us/step\n",
            "170508288/170498071 [==============================] - 2s 0us/step\n"
          ]
        }
      ]
    },
    {
      "cell_type": "markdown",
      "metadata": {
        "id": "i4tdADZn1e_V"
      },
      "source": [
        "Reshaping the training data normalizing and one-hot encoding the data."
      ]
    },
    {
      "cell_type": "code",
      "metadata": {
        "id": "W55ZPdOrULDI"
      },
      "source": [
        "# Input image dimensions.\n",
        "# We assume data format \"channels_last\".\n",
        "img_rows = x_train.shape[1]\n",
        "img_cols = x_train.shape[2]\n",
        "channels = x_train.shape[3]\n",
        "\n",
        "if K.image_data_format() == 'channels_first':\n",
        "    img_rows = x_train.shape[2]\n",
        "    img_cols = x_train.shape[3]\n",
        "    channels = x_train.shape[1]\n",
        "    x_train = x_train.reshape(x_train.shape[0], channels, img_rows, img_cols)\n",
        "    x_test = x_test.reshape(x_test.shape[0], channels, img_rows, img_cols)\n",
        "    input_shape = (channels, img_rows, img_cols)\n",
        "else:\n",
        "    img_rows = x_train.shape[1]\n",
        "    img_cols = x_train.shape[2]\n",
        "    channels = x_train.shape[3]\n",
        "    x_train = x_train.reshape(x_train.shape[0], img_rows, img_cols, channels)\n",
        "    x_test = x_test.reshape(x_test.shape[0], img_rows, img_cols, channels)\n",
        "    input_shape = (img_rows, img_cols, channels)"
      ],
      "execution_count": null,
      "outputs": []
    },
    {
      "cell_type": "code",
      "metadata": {
        "colab": {
          "base_uri": "https://localhost:8080/"
        },
        "id": "KsNZ7LytULMS",
        "outputId": "c0b2a659-8701-4f7c-cc06-ccd19056bf92"
      },
      "source": [
        "# Normalize data.\n",
        "x_train = x_train.astype('float32') / 255\n",
        "x_test = x_test.astype('float32') / 255\n",
        "print('x_train shape:', x_train.shape)\n",
        "print(x_train.shape[0], 'train samples')\n",
        "print(x_test.shape[0], 'test samples')\n",
        "print('y_train shape:', y_train.shape)"
      ],
      "execution_count": null,
      "outputs": [
        {
          "output_type": "stream",
          "name": "stdout",
          "text": [
            "x_train shape: (50000, 32, 32, 3)\n",
            "50000 train samples\n",
            "10000 test samples\n",
            "y_train shape: (50000, 1)\n"
          ]
        }
      ]
    },
    {
      "cell_type": "code",
      "metadata": {
        "id": "zVZ-eagVULdQ"
      },
      "source": [
        "# Convert class vectors to binary class matrices.\n",
        "y_train = to_categorical(y_train, num_classes)\n",
        "y_test = to_categorical(y_test, num_classes)"
      ],
      "execution_count": null,
      "outputs": []
    },
    {
      "cell_type": "markdown",
      "metadata": {
        "id": "llgtFxF12iVL"
      },
      "source": [
        "The following code defines the network archtitecture."
      ]
    },
    {
      "cell_type": "code",
      "metadata": {
        "id": "md366t8_ULif"
      },
      "source": [
        "# Start model definition.\n",
        "inputs = Input(shape=input_shape)\n",
        "x = Conv2D(num_filters,\n",
        "           kernel_size=7,\n",
        "           padding='same',\n",
        "           strides=2,\n",
        "           kernel_initializer='he_normal',\n",
        "           kernel_regularizer=l2(1e-4))(inputs)\n",
        "x = BatchNormalization()(x)\n",
        "x = Activation('relu')(x)"
      ],
      "execution_count": null,
      "outputs": []
    },
    {
      "cell_type": "code",
      "metadata": {
        "id": "o4plZrtTULqH"
      },
      "source": [
        "# Orig paper uses max pool after 1st conv.\n",
        "# Reaches up 87% acc if use_max_pool = True.\n",
        "# Cifar10 images are already too small at 32x32 to be maxpooled. So, we skip.\n",
        "if use_max_pool:\n",
        "    x = MaxPooling2D(pool_size=3, strides=2, padding='same')(x)\n",
        "    num_blocks = 3\n"
      ],
      "execution_count": null,
      "outputs": []
    },
    {
      "cell_type": "code",
      "metadata": {
        "id": "LHcUYuWWQobI"
      },
      "source": [
        "# Instantiate convolutional base (stack of blocks).\n",
        "for i in range(num_blocks):\n",
        "    for j in range(num_sub_blocks):\n",
        "        strides = 1\n",
        "        is_first_layer_but_not_first_block = j == 0 and i > 0\n",
        "        if is_first_layer_but_not_first_block:\n",
        "            strides = 2\n",
        "        y = Conv2D(num_filters,\n",
        "                   kernel_size=3,\n",
        "                   padding='same',\n",
        "                   strides=strides,\n",
        "                   kernel_initializer='he_normal',\n",
        "                   kernel_regularizer=l2(1e-4))(x)\n",
        "        y = BatchNormalization()(y)\n",
        "        y = Activation('relu')(y)\n",
        "        y = Conv2D(num_filters,\n",
        "                   kernel_size=3,\n",
        "                   padding='same',\n",
        "                   kernel_initializer='he_normal',\n",
        "                   kernel_regularizer=l2(1e-4))(y)\n",
        "        y = BatchNormalization()(y)\n",
        "        if is_first_layer_but_not_first_block:\n",
        "            x = Conv2D(num_filters,\n",
        "                       kernel_size=1,\n",
        "                       padding='same',\n",
        "                       strides=2,\n",
        "                       kernel_initializer='he_normal',\n",
        "                       kernel_regularizer=l2(1e-4))(x)\n",
        "        x = keras.layers.add([x, y])\n",
        "        x = Activation('relu')(x)\n",
        "\n",
        "    num_filters = 2 * num_filters"
      ],
      "execution_count": null,
      "outputs": []
    },
    {
      "cell_type": "code",
      "metadata": {
        "id": "VxTXRoOnXQ15"
      },
      "source": [
        "# Add classifier on top.\n",
        "x = AveragePooling2D()(x)\n",
        "y = Flatten()(x)\n",
        "outputs = Dense(num_classes,\n",
        "                activation='softmax',\n",
        "                kernel_initializer='he_normal')(y)"
      ],
      "execution_count": null,
      "outputs": []
    },
    {
      "cell_type": "markdown",
      "metadata": {
        "id": "3aXubNh20Cd7"
      },
      "source": [
        "Below are all the layers for the ResNet model. There are many more layers used than in my MNIST model however ResNet is desgined to preform well with more layers due to the identity shortcut connections that skip layers which was shown to prevent decreases in network performance as more layers are added."
      ]
    },
    {
      "cell_type": "code",
      "metadata": {
        "colab": {
          "base_uri": "https://localhost:8080/"
        },
        "id": "RZa7hD5ZXVQM",
        "outputId": "da31168e-2032-4116-fd45-71d8bcdd82f3"
      },
      "source": [
        "# Instantiate and compile model.\n",
        "model = Model(inputs=inputs, outputs=outputs)\n",
        "model.compile(loss='categorical_crossentropy',\n",
        "              optimizer=Adam(),\n",
        "              metrics=['accuracy'])\n",
        "model.summary()"
      ],
      "execution_count": null,
      "outputs": [
        {
          "output_type": "stream",
          "name": "stdout",
          "text": [
            "Model: \"model\"\n",
            "__________________________________________________________________________________________________\n",
            "Layer (type)                    Output Shape         Param #     Connected to                     \n",
            "==================================================================================================\n",
            "input_1 (InputLayer)            [(None, 32, 32, 3)]  0                                            \n",
            "__________________________________________________________________________________________________\n",
            "conv2d (Conv2D)                 (None, 16, 16, 64)   9472        input_1[0][0]                    \n",
            "__________________________________________________________________________________________________\n",
            "batch_normalization (BatchNorma (None, 16, 16, 64)   256         conv2d[0][0]                     \n",
            "__________________________________________________________________________________________________\n",
            "activation (Activation)         (None, 16, 16, 64)   0           batch_normalization[0][0]        \n",
            "__________________________________________________________________________________________________\n",
            "conv2d_1 (Conv2D)               (None, 16, 16, 64)   36928       activation[0][0]                 \n",
            "__________________________________________________________________________________________________\n",
            "batch_normalization_1 (BatchNor (None, 16, 16, 64)   256         conv2d_1[0][0]                   \n",
            "__________________________________________________________________________________________________\n",
            "activation_1 (Activation)       (None, 16, 16, 64)   0           batch_normalization_1[0][0]      \n",
            "__________________________________________________________________________________________________\n",
            "conv2d_2 (Conv2D)               (None, 16, 16, 64)   36928       activation_1[0][0]               \n",
            "__________________________________________________________________________________________________\n",
            "batch_normalization_2 (BatchNor (None, 16, 16, 64)   256         conv2d_2[0][0]                   \n",
            "__________________________________________________________________________________________________\n",
            "add (Add)                       (None, 16, 16, 64)   0           activation[0][0]                 \n",
            "                                                                 batch_normalization_2[0][0]      \n",
            "__________________________________________________________________________________________________\n",
            "activation_2 (Activation)       (None, 16, 16, 64)   0           add[0][0]                        \n",
            "__________________________________________________________________________________________________\n",
            "conv2d_3 (Conv2D)               (None, 16, 16, 64)   36928       activation_2[0][0]               \n",
            "__________________________________________________________________________________________________\n",
            "batch_normalization_3 (BatchNor (None, 16, 16, 64)   256         conv2d_3[0][0]                   \n",
            "__________________________________________________________________________________________________\n",
            "activation_3 (Activation)       (None, 16, 16, 64)   0           batch_normalization_3[0][0]      \n",
            "__________________________________________________________________________________________________\n",
            "conv2d_4 (Conv2D)               (None, 16, 16, 64)   36928       activation_3[0][0]               \n",
            "__________________________________________________________________________________________________\n",
            "batch_normalization_4 (BatchNor (None, 16, 16, 64)   256         conv2d_4[0][0]                   \n",
            "__________________________________________________________________________________________________\n",
            "add_1 (Add)                     (None, 16, 16, 64)   0           activation_2[0][0]               \n",
            "                                                                 batch_normalization_4[0][0]      \n",
            "__________________________________________________________________________________________________\n",
            "activation_4 (Activation)       (None, 16, 16, 64)   0           add_1[0][0]                      \n",
            "__________________________________________________________________________________________________\n",
            "conv2d_5 (Conv2D)               (None, 8, 8, 128)    73856       activation_4[0][0]               \n",
            "__________________________________________________________________________________________________\n",
            "batch_normalization_5 (BatchNor (None, 8, 8, 128)    512         conv2d_5[0][0]                   \n",
            "__________________________________________________________________________________________________\n",
            "activation_5 (Activation)       (None, 8, 8, 128)    0           batch_normalization_5[0][0]      \n",
            "__________________________________________________________________________________________________\n",
            "conv2d_6 (Conv2D)               (None, 8, 8, 128)    147584      activation_5[0][0]               \n",
            "__________________________________________________________________________________________________\n",
            "conv2d_7 (Conv2D)               (None, 8, 8, 128)    8320        activation_4[0][0]               \n",
            "__________________________________________________________________________________________________\n",
            "batch_normalization_6 (BatchNor (None, 8, 8, 128)    512         conv2d_6[0][0]                   \n",
            "__________________________________________________________________________________________________\n",
            "add_2 (Add)                     (None, 8, 8, 128)    0           conv2d_7[0][0]                   \n",
            "                                                                 batch_normalization_6[0][0]      \n",
            "__________________________________________________________________________________________________\n",
            "activation_6 (Activation)       (None, 8, 8, 128)    0           add_2[0][0]                      \n",
            "__________________________________________________________________________________________________\n",
            "conv2d_8 (Conv2D)               (None, 8, 8, 128)    147584      activation_6[0][0]               \n",
            "__________________________________________________________________________________________________\n",
            "batch_normalization_7 (BatchNor (None, 8, 8, 128)    512         conv2d_8[0][0]                   \n",
            "__________________________________________________________________________________________________\n",
            "activation_7 (Activation)       (None, 8, 8, 128)    0           batch_normalization_7[0][0]      \n",
            "__________________________________________________________________________________________________\n",
            "conv2d_9 (Conv2D)               (None, 8, 8, 128)    147584      activation_7[0][0]               \n",
            "__________________________________________________________________________________________________\n",
            "batch_normalization_8 (BatchNor (None, 8, 8, 128)    512         conv2d_9[0][0]                   \n",
            "__________________________________________________________________________________________________\n",
            "add_3 (Add)                     (None, 8, 8, 128)    0           activation_6[0][0]               \n",
            "                                                                 batch_normalization_8[0][0]      \n",
            "__________________________________________________________________________________________________\n",
            "activation_8 (Activation)       (None, 8, 8, 128)    0           add_3[0][0]                      \n",
            "__________________________________________________________________________________________________\n",
            "conv2d_10 (Conv2D)              (None, 4, 4, 256)    295168      activation_8[0][0]               \n",
            "__________________________________________________________________________________________________\n",
            "batch_normalization_9 (BatchNor (None, 4, 4, 256)    1024        conv2d_10[0][0]                  \n",
            "__________________________________________________________________________________________________\n",
            "activation_9 (Activation)       (None, 4, 4, 256)    0           batch_normalization_9[0][0]      \n",
            "__________________________________________________________________________________________________\n",
            "conv2d_11 (Conv2D)              (None, 4, 4, 256)    590080      activation_9[0][0]               \n",
            "__________________________________________________________________________________________________\n",
            "conv2d_12 (Conv2D)              (None, 4, 4, 256)    33024       activation_8[0][0]               \n",
            "__________________________________________________________________________________________________\n",
            "batch_normalization_10 (BatchNo (None, 4, 4, 256)    1024        conv2d_11[0][0]                  \n",
            "__________________________________________________________________________________________________\n",
            "add_4 (Add)                     (None, 4, 4, 256)    0           conv2d_12[0][0]                  \n",
            "                                                                 batch_normalization_10[0][0]     \n",
            "__________________________________________________________________________________________________\n",
            "activation_10 (Activation)      (None, 4, 4, 256)    0           add_4[0][0]                      \n",
            "__________________________________________________________________________________________________\n",
            "conv2d_13 (Conv2D)              (None, 4, 4, 256)    590080      activation_10[0][0]              \n",
            "__________________________________________________________________________________________________\n",
            "batch_normalization_11 (BatchNo (None, 4, 4, 256)    1024        conv2d_13[0][0]                  \n",
            "__________________________________________________________________________________________________\n",
            "activation_11 (Activation)      (None, 4, 4, 256)    0           batch_normalization_11[0][0]     \n",
            "__________________________________________________________________________________________________\n",
            "conv2d_14 (Conv2D)              (None, 4, 4, 256)    590080      activation_11[0][0]              \n",
            "__________________________________________________________________________________________________\n",
            "batch_normalization_12 (BatchNo (None, 4, 4, 256)    1024        conv2d_14[0][0]                  \n",
            "__________________________________________________________________________________________________\n",
            "add_5 (Add)                     (None, 4, 4, 256)    0           activation_10[0][0]              \n",
            "                                                                 batch_normalization_12[0][0]     \n",
            "__________________________________________________________________________________________________\n",
            "activation_12 (Activation)      (None, 4, 4, 256)    0           add_5[0][0]                      \n",
            "__________________________________________________________________________________________________\n",
            "conv2d_15 (Conv2D)              (None, 2, 2, 512)    1180160     activation_12[0][0]              \n",
            "__________________________________________________________________________________________________\n",
            "batch_normalization_13 (BatchNo (None, 2, 2, 512)    2048        conv2d_15[0][0]                  \n",
            "__________________________________________________________________________________________________\n",
            "activation_13 (Activation)      (None, 2, 2, 512)    0           batch_normalization_13[0][0]     \n",
            "__________________________________________________________________________________________________\n",
            "conv2d_16 (Conv2D)              (None, 2, 2, 512)    2359808     activation_13[0][0]              \n",
            "__________________________________________________________________________________________________\n",
            "conv2d_17 (Conv2D)              (None, 2, 2, 512)    131584      activation_12[0][0]              \n",
            "__________________________________________________________________________________________________\n",
            "batch_normalization_14 (BatchNo (None, 2, 2, 512)    2048        conv2d_16[0][0]                  \n",
            "__________________________________________________________________________________________________\n",
            "add_6 (Add)                     (None, 2, 2, 512)    0           conv2d_17[0][0]                  \n",
            "                                                                 batch_normalization_14[0][0]     \n",
            "__________________________________________________________________________________________________\n",
            "activation_14 (Activation)      (None, 2, 2, 512)    0           add_6[0][0]                      \n",
            "__________________________________________________________________________________________________\n",
            "conv2d_18 (Conv2D)              (None, 2, 2, 512)    2359808     activation_14[0][0]              \n",
            "__________________________________________________________________________________________________\n",
            "batch_normalization_15 (BatchNo (None, 2, 2, 512)    2048        conv2d_18[0][0]                  \n",
            "__________________________________________________________________________________________________\n",
            "activation_15 (Activation)      (None, 2, 2, 512)    0           batch_normalization_15[0][0]     \n",
            "__________________________________________________________________________________________________\n",
            "conv2d_19 (Conv2D)              (None, 2, 2, 512)    2359808     activation_15[0][0]              \n",
            "__________________________________________________________________________________________________\n",
            "batch_normalization_16 (BatchNo (None, 2, 2, 512)    2048        conv2d_19[0][0]                  \n",
            "__________________________________________________________________________________________________\n",
            "add_7 (Add)                     (None, 2, 2, 512)    0           activation_14[0][0]              \n",
            "                                                                 batch_normalization_16[0][0]     \n",
            "__________________________________________________________________________________________________\n",
            "activation_16 (Activation)      (None, 2, 2, 512)    0           add_7[0][0]                      \n",
            "__________________________________________________________________________________________________\n",
            "average_pooling2d (AveragePooli (None, 1, 1, 512)    0           activation_16[0][0]              \n",
            "__________________________________________________________________________________________________\n",
            "flatten (Flatten)               (None, 512)          0           average_pooling2d[0][0]          \n",
            "__________________________________________________________________________________________________\n",
            "dense (Dense)                   (None, 10)           5130        flatten[0][0]                    \n",
            "==================================================================================================\n",
            "Total params: 11,192,458\n",
            "Trainable params: 11,184,650\n",
            "Non-trainable params: 7,808\n",
            "__________________________________________________________________________________________________\n"
          ]
        }
      ]
    },
    {
      "cell_type": "markdown",
      "metadata": {
        "id": "vzGbQJLXzYrN"
      },
      "source": [
        "Creating directory to save the model."
      ]
    },
    {
      "cell_type": "code",
      "metadata": {
        "id": "tUELFNbUXVx3"
      },
      "source": [
        "# Prepare model model saving directory.\n",
        "save_dir = os.path.join(os.getcwd(), 'saved_models')\n",
        "model_name = 'cifar10_resnet_model.h5'\n",
        "if not os.path.isdir(save_dir):\n",
        "    os.makedirs(save_dir)\n",
        "filepath = os.path.join(save_dir, model_name)"
      ],
      "execution_count": null,
      "outputs": []
    },
    {
      "cell_type": "markdown",
      "metadata": {
        "id": "9rax2zGqzjD4"
      },
      "source": [
        "Callback is used for model saving a specifies parameters for learning rate decaying."
      ]
    },
    {
      "cell_type": "code",
      "metadata": {
        "id": "UX5teZnRXZVr"
      },
      "source": [
        "# Prepare callbacks for model saving and for learning rate decaying.\n",
        "checkpoint = ModelCheckpoint(filepath=filepath,\n",
        "                             verbose=1,\n",
        "                             save_best_only=True)\n",
        "lr_reducer = ReduceLROnPlateau(factor=np.sqrt(0.1),\n",
        "                               cooldown=0,\n",
        "                               patience=5,\n",
        "                               min_lr=0.5e-6)\n",
        "callbacks = [checkpoint, lr_reducer]"
      ],
      "execution_count": null,
      "outputs": []
    },
    {
      "cell_type": "markdown",
      "metadata": {
        "id": "l0d0h5Pvyn0Z"
      },
      "source": [
        "After adding in the random erasing and data augmentation it is time to train the model. This model is much deeper than the model I implemeted on the MNIST data and I also trained it for many more epochs. Therefore it took a lot longer to train compared to the MNIST data."
      ]
    },
    {
      "cell_type": "code",
      "metadata": {
        "colab": {
          "base_uri": "https://localhost:8080/"
        },
        "id": "ubKunR-SXhim",
        "outputId": "341a4d2d-aa5d-4f06-bc1c-c5e1b0b7a27f"
      },
      "source": [
        "# Run training, with or without data augmentation.\n",
        "if not data_augmentation:\n",
        "    print('Not using data augmentation.')\n",
        "    model.fit(x_train, y_train,\n",
        "              batch_size=batch_size,\n",
        "              epochs=epochs,\n",
        "              validation_data=(x_test, y_test),\n",
        "              shuffle=True,\n",
        "              callbacks=callbacks)\n",
        "else:\n",
        "    print('Using real-time data augmentation.')\n",
        "    # This will do preprocessing and realtime data augmentation:\n",
        "    datagen = ImageDataGenerator(\n",
        "        featurewise_center=False,  # set input mean to 0 over the dataset\n",
        "        samplewise_center=False,  # set each sample mean to 0\n",
        "        featurewise_std_normalization=False,  # divide inputs by std of the dataset\n",
        "        samplewise_std_normalization=False,  # divide each input by its std\n",
        "        zca_whitening=False,  # apply ZCA whitening\n",
        "        rotation_range=0,  # randomly rotate images in the range (degrees, 0 to 180)\n",
        "        width_shift_range=0.1,  # randomly shift images horizontally (fraction of total width)\n",
        "        height_shift_range=0.1,  # randomly shift images vertically (fraction of total height)\n",
        "        horizontal_flip=True,  # randomly flip images\n",
        "        vertical_flip=False,  # randomly flip images\n",
        "        preprocessing_function=get_random_eraser(v_l=0, v_h=1, pixel_level=pixel_level))\n",
        "\n",
        "    # Compute quantities required for featurewise normalization\n",
        "    # (std, mean, and principal components if ZCA whitening is applied).\n",
        "    datagen.fit(x_train)\n",
        "\n",
        "    # Fit the model on the batches generated by datagen.flow().\n",
        "    model.fit_generator(datagen.flow(x_train, y_train, batch_size=batch_size),\n",
        "                        steps_per_epoch=x_train.shape[0] // batch_size,\n",
        "                        validation_data=(x_test, y_test),\n",
        "                        epochs=epochs, verbose=1, workers=4,\n",
        "                        callbacks=callbacks)"
      ],
      "execution_count": null,
      "outputs": [
        {
          "output_type": "stream",
          "name": "stdout",
          "text": [
            "Using real-time data augmentation.\n"
          ]
        },
        {
          "output_type": "stream",
          "name": "stderr",
          "text": [
            "/usr/local/lib/python3.7/dist-packages/keras/engine/training.py:1972: UserWarning: `Model.fit_generator` is deprecated and will be removed in a future version. Please use `Model.fit`, which supports generators.\n",
            "  warnings.warn('`Model.fit_generator` is deprecated and '\n"
          ]
        },
        {
          "output_type": "stream",
          "name": "stdout",
          "text": [
            "Epoch 1/100\n",
            "1562/1562 [==============================] - 158s 79ms/step - loss: 2.3402 - accuracy: 0.4062 - val_loss: 2.0406 - val_accuracy: 0.4582\n",
            "\n",
            "Epoch 00001: val_loss improved from inf to 2.04061, saving model to /content/saved_models/cifar10_resnet_model.h5\n"
          ]
        },
        {
          "output_type": "stream",
          "name": "stderr",
          "text": [
            "/usr/local/lib/python3.7/dist-packages/keras/utils/generic_utils.py:497: CustomMaskWarning: Custom mask layers require a config and must override get_config. When loading, the custom mask layer must be passed to the custom_objects argument.\n",
            "  category=CustomMaskWarning)\n"
          ]
        },
        {
          "output_type": "stream",
          "name": "stdout",
          "text": [
            "Epoch 2/100\n",
            "1562/1562 [==============================] - 121s 77ms/step - loss: 1.7136 - accuracy: 0.5379 - val_loss: 1.6477 - val_accuracy: 0.5642\n",
            "\n",
            "Epoch 00002: val_loss improved from 2.04061 to 1.64770, saving model to /content/saved_models/cifar10_resnet_model.h5\n",
            "Epoch 3/100\n",
            "1562/1562 [==============================] - 121s 77ms/step - loss: 1.4908 - accuracy: 0.6040 - val_loss: 1.7468 - val_accuracy: 0.5336\n",
            "\n",
            "Epoch 00003: val_loss did not improve from 1.64770\n",
            "Epoch 4/100\n",
            "1562/1562 [==============================] - 121s 78ms/step - loss: 1.3822 - accuracy: 0.6380 - val_loss: 1.2810 - val_accuracy: 0.6789\n",
            "\n",
            "Epoch 00004: val_loss improved from 1.64770 to 1.28099, saving model to /content/saved_models/cifar10_resnet_model.h5\n",
            "Epoch 5/100\n",
            "1562/1562 [==============================] - 122s 78ms/step - loss: 1.2927 - accuracy: 0.6697 - val_loss: 1.1528 - val_accuracy: 0.7262\n",
            "\n",
            "Epoch 00005: val_loss improved from 1.28099 to 1.15279, saving model to /content/saved_models/cifar10_resnet_model.h5\n",
            "Epoch 6/100\n",
            "1562/1562 [==============================] - 121s 77ms/step - loss: 1.2265 - accuracy: 0.6904 - val_loss: 1.7062 - val_accuracy: 0.5752\n",
            "\n",
            "Epoch 00006: val_loss did not improve from 1.15279\n",
            "Epoch 7/100\n",
            "1562/1562 [==============================] - 121s 77ms/step - loss: 1.1714 - accuracy: 0.7096 - val_loss: 1.2945 - val_accuracy: 0.6748\n",
            "\n",
            "Epoch 00007: val_loss did not improve from 1.15279\n",
            "Epoch 8/100\n",
            "1562/1562 [==============================] - 121s 78ms/step - loss: 1.1288 - accuracy: 0.7217 - val_loss: 1.2574 - val_accuracy: 0.6840\n",
            "\n",
            "Epoch 00008: val_loss did not improve from 1.15279\n",
            "Epoch 9/100\n",
            "1562/1562 [==============================] - 122s 78ms/step - loss: 1.0800 - accuracy: 0.7382 - val_loss: 1.0925 - val_accuracy: 0.7410\n",
            "\n",
            "Epoch 00009: val_loss improved from 1.15279 to 1.09247, saving model to /content/saved_models/cifar10_resnet_model.h5\n",
            "Epoch 10/100\n",
            "1562/1562 [==============================] - 121s 77ms/step - loss: 1.0579 - accuracy: 0.7437 - val_loss: 1.0444 - val_accuracy: 0.7537\n",
            "\n",
            "Epoch 00010: val_loss improved from 1.09247 to 1.04444, saving model to /content/saved_models/cifar10_resnet_model.h5\n",
            "Epoch 11/100\n",
            "1562/1562 [==============================] - 121s 77ms/step - loss: 1.0259 - accuracy: 0.7543 - val_loss: 1.2082 - val_accuracy: 0.7009\n",
            "\n",
            "Epoch 00011: val_loss did not improve from 1.04444\n",
            "Epoch 12/100\n",
            "1562/1562 [==============================] - 122s 78ms/step - loss: 1.0103 - accuracy: 0.7588 - val_loss: 0.9606 - val_accuracy: 0.7782\n",
            "\n",
            "Epoch 00012: val_loss improved from 1.04444 to 0.96060, saving model to /content/saved_models/cifar10_resnet_model.h5\n",
            "Epoch 13/100\n",
            "1562/1562 [==============================] - 123s 78ms/step - loss: 0.9870 - accuracy: 0.7669 - val_loss: 1.0321 - val_accuracy: 0.7600\n",
            "\n",
            "Epoch 00013: val_loss did not improve from 0.96060\n",
            "Epoch 14/100\n",
            "1562/1562 [==============================] - 123s 78ms/step - loss: 0.9670 - accuracy: 0.7730 - val_loss: 1.1786 - val_accuracy: 0.7145\n",
            "\n",
            "Epoch 00014: val_loss did not improve from 0.96060\n",
            "Epoch 15/100\n",
            "1562/1562 [==============================] - 122s 78ms/step - loss: 0.9515 - accuracy: 0.7791 - val_loss: 0.8914 - val_accuracy: 0.7960\n",
            "\n",
            "Epoch 00015: val_loss improved from 0.96060 to 0.89139, saving model to /content/saved_models/cifar10_resnet_model.h5\n",
            "Epoch 16/100\n",
            "1562/1562 [==============================] - 121s 78ms/step - loss: 0.9382 - accuracy: 0.7813 - val_loss: 0.9686 - val_accuracy: 0.7754\n",
            "\n",
            "Epoch 00016: val_loss did not improve from 0.89139\n",
            "Epoch 17/100\n",
            "1562/1562 [==============================] - 123s 78ms/step - loss: 0.9288 - accuracy: 0.7830 - val_loss: 1.1073 - val_accuracy: 0.7544\n",
            "\n",
            "Epoch 00017: val_loss did not improve from 0.89139\n",
            "Epoch 18/100\n",
            "1562/1562 [==============================] - 122s 78ms/step - loss: 0.9099 - accuracy: 0.7931 - val_loss: 1.1905 - val_accuracy: 0.7270\n",
            "\n",
            "Epoch 00018: val_loss did not improve from 0.89139\n",
            "Epoch 19/100\n",
            "1562/1562 [==============================] - 122s 78ms/step - loss: 0.8992 - accuracy: 0.7946 - val_loss: 0.9425 - val_accuracy: 0.7962\n",
            "\n",
            "Epoch 00019: val_loss did not improve from 0.89139\n",
            "Epoch 20/100\n",
            "1562/1562 [==============================] - 122s 78ms/step - loss: 0.8924 - accuracy: 0.7957 - val_loss: 0.9580 - val_accuracy: 0.7823\n",
            "\n",
            "Epoch 00020: val_loss did not improve from 0.89139\n",
            "Epoch 21/100\n",
            "1562/1562 [==============================] - 122s 78ms/step - loss: 0.7576 - accuracy: 0.8385 - val_loss: 0.7282 - val_accuracy: 0.8522\n",
            "\n",
            "Epoch 00021: val_loss improved from 0.89139 to 0.72822, saving model to /content/saved_models/cifar10_resnet_model.h5\n",
            "Epoch 22/100\n",
            "1562/1562 [==============================] - 121s 77ms/step - loss: 0.7057 - accuracy: 0.8490 - val_loss: 0.6603 - val_accuracy: 0.8688\n",
            "\n",
            "Epoch 00022: val_loss improved from 0.72822 to 0.66032, saving model to /content/saved_models/cifar10_resnet_model.h5\n",
            "Epoch 23/100\n",
            "1562/1562 [==============================] - 121s 78ms/step - loss: 0.6845 - accuracy: 0.8522 - val_loss: 0.6582 - val_accuracy: 0.8663\n",
            "\n",
            "Epoch 00023: val_loss improved from 0.66032 to 0.65817, saving model to /content/saved_models/cifar10_resnet_model.h5\n",
            "Epoch 24/100\n",
            "1562/1562 [==============================] - 121s 78ms/step - loss: 0.6547 - accuracy: 0.8600 - val_loss: 0.6445 - val_accuracy: 0.8651\n",
            "\n",
            "Epoch 00024: val_loss improved from 0.65817 to 0.64446, saving model to /content/saved_models/cifar10_resnet_model.h5\n",
            "Epoch 25/100\n",
            "1562/1562 [==============================] - 122s 78ms/step - loss: 0.6369 - accuracy: 0.8640 - val_loss: 0.6382 - val_accuracy: 0.8673\n",
            "\n",
            "Epoch 00025: val_loss improved from 0.64446 to 0.63819, saving model to /content/saved_models/cifar10_resnet_model.h5\n",
            "Epoch 26/100\n",
            "1562/1562 [==============================] - 121s 78ms/step - loss: 0.6229 - accuracy: 0.8665 - val_loss: 0.6296 - val_accuracy: 0.8690\n",
            "\n",
            "Epoch 00026: val_loss improved from 0.63819 to 0.62963, saving model to /content/saved_models/cifar10_resnet_model.h5\n",
            "Epoch 27/100\n",
            "1562/1562 [==============================] - 121s 78ms/step - loss: 0.6141 - accuracy: 0.8678 - val_loss: 0.6282 - val_accuracy: 0.8659\n",
            "\n",
            "Epoch 00027: val_loss improved from 0.62963 to 0.62820, saving model to /content/saved_models/cifar10_resnet_model.h5\n",
            "Epoch 28/100\n",
            "1562/1562 [==============================] - 122s 78ms/step - loss: 0.6006 - accuracy: 0.8693 - val_loss: 0.6234 - val_accuracy: 0.8699\n",
            "\n",
            "Epoch 00028: val_loss improved from 0.62820 to 0.62340, saving model to /content/saved_models/cifar10_resnet_model.h5\n",
            "Epoch 29/100\n",
            "1562/1562 [==============================] - 122s 78ms/step - loss: 0.5905 - accuracy: 0.8716 - val_loss: 0.6025 - val_accuracy: 0.8718\n",
            "\n",
            "Epoch 00029: val_loss improved from 0.62340 to 0.60253, saving model to /content/saved_models/cifar10_resnet_model.h5\n",
            "Epoch 30/100\n",
            "1562/1562 [==============================] - 122s 78ms/step - loss: 0.5825 - accuracy: 0.8732 - val_loss: 0.6399 - val_accuracy: 0.8613\n",
            "\n",
            "Epoch 00030: val_loss did not improve from 0.60253\n",
            "Epoch 31/100\n",
            "1562/1562 [==============================] - 121s 78ms/step - loss: 0.5756 - accuracy: 0.8754 - val_loss: 0.5978 - val_accuracy: 0.8747\n",
            "\n",
            "Epoch 00031: val_loss improved from 0.60253 to 0.59781, saving model to /content/saved_models/cifar10_resnet_model.h5\n",
            "Epoch 32/100\n",
            "1562/1562 [==============================] - 121s 77ms/step - loss: 0.5689 - accuracy: 0.8753 - val_loss: 0.6161 - val_accuracy: 0.8665\n",
            "\n",
            "Epoch 00032: val_loss did not improve from 0.59781\n",
            "Epoch 33/100\n",
            "1562/1562 [==============================] - 122s 78ms/step - loss: 0.5623 - accuracy: 0.8765 - val_loss: 0.6709 - val_accuracy: 0.8545\n",
            "\n",
            "Epoch 00033: val_loss did not improve from 0.59781\n",
            "Epoch 34/100\n",
            "1562/1562 [==============================] - 120s 77ms/step - loss: 0.5550 - accuracy: 0.8785 - val_loss: 0.5942 - val_accuracy: 0.8717\n",
            "\n",
            "Epoch 00034: val_loss improved from 0.59781 to 0.59420, saving model to /content/saved_models/cifar10_resnet_model.h5\n",
            "Epoch 35/100\n",
            "1562/1562 [==============================] - 121s 77ms/step - loss: 0.5496 - accuracy: 0.8821 - val_loss: 0.6126 - val_accuracy: 0.8667\n",
            "\n",
            "Epoch 00035: val_loss did not improve from 0.59420\n",
            "Epoch 36/100\n",
            "1562/1562 [==============================] - 120s 77ms/step - loss: 0.5408 - accuracy: 0.8840 - val_loss: 0.6063 - val_accuracy: 0.8649\n",
            "\n",
            "Epoch 00036: val_loss did not improve from 0.59420\n",
            "Epoch 37/100\n",
            "1562/1562 [==============================] - 120s 77ms/step - loss: 0.5436 - accuracy: 0.8826 - val_loss: 0.6181 - val_accuracy: 0.8681\n",
            "\n",
            "Epoch 00037: val_loss did not improve from 0.59420\n",
            "Epoch 38/100\n",
            "1562/1562 [==============================] - 120s 77ms/step - loss: 0.5354 - accuracy: 0.8811 - val_loss: 0.5953 - val_accuracy: 0.8758\n",
            "\n",
            "Epoch 00038: val_loss did not improve from 0.59420\n",
            "Epoch 39/100\n",
            "1562/1562 [==============================] - 121s 77ms/step - loss: 0.5285 - accuracy: 0.8859 - val_loss: 0.6822 - val_accuracy: 0.8482\n",
            "\n",
            "Epoch 00039: val_loss did not improve from 0.59420\n",
            "Epoch 40/100\n",
            "1562/1562 [==============================] - 121s 77ms/step - loss: 0.4718 - accuracy: 0.9058 - val_loss: 0.5342 - val_accuracy: 0.8960\n",
            "\n",
            "Epoch 00040: val_loss improved from 0.59420 to 0.53420, saving model to /content/saved_models/cifar10_resnet_model.h5\n",
            "Epoch 41/100\n",
            "1562/1562 [==============================] - 120s 77ms/step - loss: 0.4584 - accuracy: 0.9091 - val_loss: 0.5297 - val_accuracy: 0.8965\n",
            "\n",
            "Epoch 00041: val_loss improved from 0.53420 to 0.52974, saving model to /content/saved_models/cifar10_resnet_model.h5\n",
            "Epoch 42/100\n",
            "1562/1562 [==============================] - 122s 78ms/step - loss: 0.4441 - accuracy: 0.9123 - val_loss: 0.5185 - val_accuracy: 0.8988\n",
            "\n",
            "Epoch 00042: val_loss improved from 0.52974 to 0.51845, saving model to /content/saved_models/cifar10_resnet_model.h5\n",
            "Epoch 43/100\n",
            "1562/1562 [==============================] - 122s 78ms/step - loss: 0.4377 - accuracy: 0.9146 - val_loss: 0.5236 - val_accuracy: 0.8947\n",
            "\n",
            "Epoch 00043: val_loss did not improve from 0.51845\n",
            "Epoch 44/100\n",
            "1562/1562 [==============================] - 122s 78ms/step - loss: 0.4324 - accuracy: 0.9151 - val_loss: 0.5233 - val_accuracy: 0.8954\n",
            "\n",
            "Epoch 00044: val_loss did not improve from 0.51845\n",
            "Epoch 45/100\n",
            "1562/1562 [==============================] - 122s 78ms/step - loss: 0.4223 - accuracy: 0.9191 - val_loss: 0.5159 - val_accuracy: 0.8956\n",
            "\n",
            "Epoch 00045: val_loss improved from 0.51845 to 0.51592, saving model to /content/saved_models/cifar10_resnet_model.h5\n",
            "Epoch 46/100\n",
            "1562/1562 [==============================] - 122s 78ms/step - loss: 0.4189 - accuracy: 0.9185 - val_loss: 0.5046 - val_accuracy: 0.8995\n",
            "\n",
            "Epoch 00046: val_loss improved from 0.51592 to 0.50456, saving model to /content/saved_models/cifar10_resnet_model.h5\n",
            "Epoch 47/100\n",
            "1562/1562 [==============================] - 122s 78ms/step - loss: 0.4121 - accuracy: 0.9195 - val_loss: 0.5203 - val_accuracy: 0.8963\n",
            "\n",
            "Epoch 00047: val_loss did not improve from 0.50456\n",
            "Epoch 48/100\n",
            "1562/1562 [==============================] - 122s 78ms/step - loss: 0.4070 - accuracy: 0.9221 - val_loss: 0.5212 - val_accuracy: 0.8944\n",
            "\n",
            "Epoch 00048: val_loss did not improve from 0.50456\n",
            "Epoch 49/100\n",
            "1562/1562 [==============================] - 122s 78ms/step - loss: 0.4057 - accuracy: 0.9219 - val_loss: 0.5289 - val_accuracy: 0.8952\n",
            "\n",
            "Epoch 00049: val_loss did not improve from 0.50456\n",
            "Epoch 50/100\n",
            "1562/1562 [==============================] - 122s 78ms/step - loss: 0.4034 - accuracy: 0.9228 - val_loss: 0.5343 - val_accuracy: 0.8942\n",
            "\n",
            "Epoch 00050: val_loss did not improve from 0.50456\n",
            "Epoch 51/100\n",
            "1562/1562 [==============================] - 122s 78ms/step - loss: 0.3950 - accuracy: 0.9246 - val_loss: 0.5067 - val_accuracy: 0.8965\n",
            "\n",
            "Epoch 00051: val_loss did not improve from 0.50456\n",
            "Epoch 52/100\n",
            "1562/1562 [==============================] - 121s 78ms/step - loss: 0.3757 - accuracy: 0.9310 - val_loss: 0.4891 - val_accuracy: 0.9050\n",
            "\n",
            "Epoch 00052: val_loss improved from 0.50456 to 0.48912, saving model to /content/saved_models/cifar10_resnet_model.h5\n",
            "Epoch 53/100\n",
            "1562/1562 [==============================] - 122s 78ms/step - loss: 0.3717 - accuracy: 0.9318 - val_loss: 0.4843 - val_accuracy: 0.9053\n",
            "\n",
            "Epoch 00053: val_loss improved from 0.48912 to 0.48435, saving model to /content/saved_models/cifar10_resnet_model.h5\n",
            "Epoch 54/100\n",
            "1562/1562 [==============================] - 121s 78ms/step - loss: 0.3669 - accuracy: 0.9331 - val_loss: 0.4885 - val_accuracy: 0.9066\n",
            "\n",
            "Epoch 00054: val_loss did not improve from 0.48435\n",
            "Epoch 55/100\n",
            "1562/1562 [==============================] - 121s 78ms/step - loss: 0.3605 - accuracy: 0.9354 - val_loss: 0.4897 - val_accuracy: 0.9067\n",
            "\n",
            "Epoch 00055: val_loss did not improve from 0.48435\n",
            "Epoch 56/100\n",
            "1562/1562 [==============================] - 122s 78ms/step - loss: 0.3583 - accuracy: 0.9355 - val_loss: 0.4822 - val_accuracy: 0.9071\n",
            "\n",
            "Epoch 00056: val_loss improved from 0.48435 to 0.48224, saving model to /content/saved_models/cifar10_resnet_model.h5\n",
            "Epoch 57/100\n",
            "1562/1562 [==============================] - 122s 78ms/step - loss: 0.3564 - accuracy: 0.9367 - val_loss: 0.4804 - val_accuracy: 0.9070\n",
            "\n",
            "Epoch 00057: val_loss improved from 0.48224 to 0.48039, saving model to /content/saved_models/cifar10_resnet_model.h5\n",
            "Epoch 58/100\n",
            "1562/1562 [==============================] - 121s 78ms/step - loss: 0.3582 - accuracy: 0.9361 - val_loss: 0.4837 - val_accuracy: 0.9076\n",
            "\n",
            "Epoch 00058: val_loss did not improve from 0.48039\n",
            "Epoch 59/100\n",
            "1562/1562 [==============================] - 121s 78ms/step - loss: 0.3529 - accuracy: 0.9381 - val_loss: 0.4832 - val_accuracy: 0.9072\n",
            "\n",
            "Epoch 00059: val_loss did not improve from 0.48039\n",
            "Epoch 60/100\n",
            "1562/1562 [==============================] - 122s 78ms/step - loss: 0.3521 - accuracy: 0.9377 - val_loss: 0.4874 - val_accuracy: 0.9055\n",
            "\n",
            "Epoch 00060: val_loss did not improve from 0.48039\n",
            "Epoch 61/100\n",
            "1562/1562 [==============================] - 122s 78ms/step - loss: 0.3457 - accuracy: 0.9400 - val_loss: 0.4881 - val_accuracy: 0.9082\n",
            "\n",
            "Epoch 00061: val_loss did not improve from 0.48039\n",
            "Epoch 62/100\n",
            "1562/1562 [==============================] - 122s 78ms/step - loss: 0.3519 - accuracy: 0.9377 - val_loss: 0.4895 - val_accuracy: 0.9051\n",
            "\n",
            "Epoch 00062: val_loss did not improve from 0.48039\n",
            "Epoch 63/100\n",
            "1562/1562 [==============================] - 122s 78ms/step - loss: 0.3426 - accuracy: 0.9400 - val_loss: 0.4781 - val_accuracy: 0.9097\n",
            "\n",
            "Epoch 00063: val_loss improved from 0.48039 to 0.47809, saving model to /content/saved_models/cifar10_resnet_model.h5\n",
            "Epoch 64/100\n",
            "1562/1562 [==============================] - 122s 78ms/step - loss: 0.3383 - accuracy: 0.9421 - val_loss: 0.4796 - val_accuracy: 0.9094\n",
            "\n",
            "Epoch 00064: val_loss did not improve from 0.47809\n",
            "Epoch 65/100\n",
            "1562/1562 [==============================] - 122s 78ms/step - loss: 0.3386 - accuracy: 0.9418 - val_loss: 0.4779 - val_accuracy: 0.9091\n",
            "\n",
            "Epoch 00065: val_loss improved from 0.47809 to 0.47790, saving model to /content/saved_models/cifar10_resnet_model.h5\n",
            "Epoch 66/100\n",
            "1562/1562 [==============================] - 122s 78ms/step - loss: 0.3409 - accuracy: 0.9406 - val_loss: 0.4780 - val_accuracy: 0.9100\n",
            "\n",
            "Epoch 00066: val_loss did not improve from 0.47790\n",
            "Epoch 67/100\n",
            "1562/1562 [==============================] - 122s 78ms/step - loss: 0.3349 - accuracy: 0.9438 - val_loss: 0.4803 - val_accuracy: 0.9093\n",
            "\n",
            "Epoch 00067: val_loss did not improve from 0.47790\n",
            "Epoch 68/100\n",
            "1562/1562 [==============================] - 121s 78ms/step - loss: 0.3343 - accuracy: 0.9428 - val_loss: 0.4810 - val_accuracy: 0.9097\n",
            "\n",
            "Epoch 00068: val_loss did not improve from 0.47790\n",
            "Epoch 69/100\n",
            "1562/1562 [==============================] - 122s 78ms/step - loss: 0.3360 - accuracy: 0.9421 - val_loss: 0.4806 - val_accuracy: 0.9096\n",
            "\n",
            "Epoch 00069: val_loss did not improve from 0.47790\n",
            "Epoch 70/100\n",
            "1562/1562 [==============================] - 122s 78ms/step - loss: 0.3289 - accuracy: 0.9440 - val_loss: 0.4791 - val_accuracy: 0.9093\n",
            "\n",
            "Epoch 00070: val_loss did not improve from 0.47790\n",
            "Epoch 71/100\n",
            "1562/1562 [==============================] - 122s 78ms/step - loss: 0.3316 - accuracy: 0.9452 - val_loss: 0.4799 - val_accuracy: 0.9094\n",
            "\n",
            "Epoch 00071: val_loss did not improve from 0.47790\n",
            "Epoch 72/100\n",
            "1562/1562 [==============================] - 122s 78ms/step - loss: 0.3320 - accuracy: 0.9440 - val_loss: 0.4781 - val_accuracy: 0.9105\n",
            "\n",
            "Epoch 00072: val_loss did not improve from 0.47790\n",
            "Epoch 73/100\n",
            "1562/1562 [==============================] - 122s 78ms/step - loss: 0.3310 - accuracy: 0.9439 - val_loss: 0.4785 - val_accuracy: 0.9101\n",
            "\n",
            "Epoch 00073: val_loss did not improve from 0.47790\n",
            "Epoch 74/100\n",
            "1562/1562 [==============================] - 122s 78ms/step - loss: 0.3312 - accuracy: 0.9437 - val_loss: 0.4771 - val_accuracy: 0.9103\n",
            "\n",
            "Epoch 00074: val_loss improved from 0.47790 to 0.47708, saving model to /content/saved_models/cifar10_resnet_model.h5\n",
            "Epoch 75/100\n",
            "1562/1562 [==============================] - 122s 78ms/step - loss: 0.3307 - accuracy: 0.9440 - val_loss: 0.4792 - val_accuracy: 0.9105\n",
            "\n",
            "Epoch 00075: val_loss did not improve from 0.47708\n",
            "Epoch 76/100\n",
            "1562/1562 [==============================] - 122s 78ms/step - loss: 0.3301 - accuracy: 0.9452 - val_loss: 0.4786 - val_accuracy: 0.9104\n",
            "\n",
            "Epoch 00076: val_loss did not improve from 0.47708\n",
            "Epoch 77/100\n",
            "1562/1562 [==============================] - 127s 81ms/step - loss: 0.3300 - accuracy: 0.9448 - val_loss: 0.4776 - val_accuracy: 0.9110\n",
            "\n",
            "Epoch 00077: val_loss did not improve from 0.47708\n",
            "Epoch 78/100\n",
            "1562/1562 [==============================] - 123s 78ms/step - loss: 0.3314 - accuracy: 0.9432 - val_loss: 0.4803 - val_accuracy: 0.9097\n",
            "\n",
            "Epoch 00078: val_loss did not improve from 0.47708\n",
            "Epoch 79/100\n",
            "1562/1562 [==============================] - 122s 78ms/step - loss: 0.3263 - accuracy: 0.9456 - val_loss: 0.4774 - val_accuracy: 0.9112\n",
            "\n",
            "Epoch 00079: val_loss did not improve from 0.47708\n",
            "Epoch 80/100\n",
            "1562/1562 [==============================] - 122s 78ms/step - loss: 0.3275 - accuracy: 0.9453 - val_loss: 0.4774 - val_accuracy: 0.9110\n",
            "\n",
            "Epoch 00080: val_loss did not improve from 0.47708\n",
            "Epoch 81/100\n",
            "1562/1562 [==============================] - 121s 78ms/step - loss: 0.3288 - accuracy: 0.9437 - val_loss: 0.4770 - val_accuracy: 0.9119\n",
            "\n",
            "Epoch 00081: val_loss improved from 0.47708 to 0.47705, saving model to /content/saved_models/cifar10_resnet_model.h5\n",
            "Epoch 82/100\n",
            "1562/1562 [==============================] - 122s 78ms/step - loss: 0.3329 - accuracy: 0.9430 - val_loss: 0.4766 - val_accuracy: 0.9113\n",
            "\n",
            "Epoch 00082: val_loss improved from 0.47705 to 0.47664, saving model to /content/saved_models/cifar10_resnet_model.h5\n",
            "Epoch 83/100\n",
            "1562/1562 [==============================] - 122s 78ms/step - loss: 0.3281 - accuracy: 0.9442 - val_loss: 0.4773 - val_accuracy: 0.9112\n",
            "\n",
            "Epoch 00083: val_loss did not improve from 0.47664\n",
            "Epoch 84/100\n",
            "1562/1562 [==============================] - 122s 78ms/step - loss: 0.3277 - accuracy: 0.9452 - val_loss: 0.4754 - val_accuracy: 0.9118\n",
            "\n",
            "Epoch 00084: val_loss improved from 0.47664 to 0.47544, saving model to /content/saved_models/cifar10_resnet_model.h5\n",
            "Epoch 85/100\n",
            "1562/1562 [==============================] - 122s 78ms/step - loss: 0.3252 - accuracy: 0.9457 - val_loss: 0.4780 - val_accuracy: 0.9112\n",
            "\n",
            "Epoch 00085: val_loss did not improve from 0.47544\n",
            "Epoch 86/100\n",
            "1562/1562 [==============================] - 122s 78ms/step - loss: 0.3240 - accuracy: 0.9462 - val_loss: 0.4781 - val_accuracy: 0.9113\n",
            "\n",
            "Epoch 00086: val_loss did not improve from 0.47544\n",
            "Epoch 87/100\n",
            "1562/1562 [==============================] - 122s 78ms/step - loss: 0.3296 - accuracy: 0.9446 - val_loss: 0.4777 - val_accuracy: 0.9107\n",
            "\n",
            "Epoch 00087: val_loss did not improve from 0.47544\n",
            "Epoch 88/100\n",
            "1562/1562 [==============================] - 121s 78ms/step - loss: 0.3266 - accuracy: 0.9451 - val_loss: 0.4762 - val_accuracy: 0.9106\n",
            "\n",
            "Epoch 00088: val_loss did not improve from 0.47544\n",
            "Epoch 89/100\n",
            "1562/1562 [==============================] - 119s 76ms/step - loss: 0.3322 - accuracy: 0.9424 - val_loss: 0.4765 - val_accuracy: 0.9109\n",
            "\n",
            "Epoch 00089: val_loss did not improve from 0.47544\n",
            "Epoch 90/100\n",
            "1562/1562 [==============================] - 121s 77ms/step - loss: 0.3345 - accuracy: 0.9418 - val_loss: 0.4770 - val_accuracy: 0.9113\n",
            "\n",
            "Epoch 00090: val_loss did not improve from 0.47544\n",
            "Epoch 91/100\n",
            "1562/1562 [==============================] - 120s 77ms/step - loss: 0.3249 - accuracy: 0.9462 - val_loss: 0.4766 - val_accuracy: 0.9112\n",
            "\n",
            "Epoch 00091: val_loss did not improve from 0.47544\n",
            "Epoch 92/100\n",
            "1562/1562 [==============================] - 120s 77ms/step - loss: 0.3270 - accuracy: 0.9448 - val_loss: 0.4769 - val_accuracy: 0.9111\n",
            "\n",
            "Epoch 00092: val_loss did not improve from 0.47544\n",
            "Epoch 93/100\n",
            "1562/1562 [==============================] - 121s 77ms/step - loss: 0.3300 - accuracy: 0.9437 - val_loss: 0.4770 - val_accuracy: 0.9113\n",
            "\n",
            "Epoch 00093: val_loss did not improve from 0.47544\n",
            "Epoch 94/100\n",
            "1562/1562 [==============================] - 121s 78ms/step - loss: 0.3290 - accuracy: 0.9440 - val_loss: 0.4755 - val_accuracy: 0.9110\n",
            "\n",
            "Epoch 00094: val_loss did not improve from 0.47544\n",
            "Epoch 95/100\n",
            "1562/1562 [==============================] - 120s 77ms/step - loss: 0.3251 - accuracy: 0.9456 - val_loss: 0.4752 - val_accuracy: 0.9116\n",
            "\n",
            "Epoch 00095: val_loss improved from 0.47544 to 0.47516, saving model to /content/saved_models/cifar10_resnet_model.h5\n",
            "Epoch 96/100\n",
            "1562/1562 [==============================] - 119s 76ms/step - loss: 0.3284 - accuracy: 0.9446 - val_loss: 0.4767 - val_accuracy: 0.9116\n",
            "\n",
            "Epoch 00096: val_loss did not improve from 0.47516\n",
            "Epoch 97/100\n",
            "1562/1562 [==============================] - 121s 77ms/step - loss: 0.3289 - accuracy: 0.9451 - val_loss: 0.4764 - val_accuracy: 0.9114\n",
            "\n",
            "Epoch 00097: val_loss did not improve from 0.47516\n",
            "Epoch 98/100\n",
            "1562/1562 [==============================] - 121s 77ms/step - loss: 0.3266 - accuracy: 0.9453 - val_loss: 0.4770 - val_accuracy: 0.9106\n",
            "\n",
            "Epoch 00098: val_loss did not improve from 0.47516\n",
            "Epoch 99/100\n",
            "1562/1562 [==============================] - 122s 78ms/step - loss: 0.3289 - accuracy: 0.9449 - val_loss: 0.4763 - val_accuracy: 0.9114\n",
            "\n",
            "Epoch 00099: val_loss did not improve from 0.47516\n",
            "Epoch 100/100\n",
            "1562/1562 [==============================] - 121s 77ms/step - loss: 0.3269 - accuracy: 0.9445 - val_loss: 0.4760 - val_accuracy: 0.9116\n",
            "\n",
            "Epoch 00100: val_loss did not improve from 0.47516\n"
          ]
        }
      ]
    },
    {
      "cell_type": "markdown",
      "metadata": {
        "id": "sdWJOqytqd58"
      },
      "source": [
        "The test accuracy for the model is aprroximately 0.9116. "
      ]
    },
    {
      "cell_type": "code",
      "metadata": {
        "colab": {
          "base_uri": "https://localhost:8080/"
        },
        "id": "roQFK0h1XjcQ",
        "outputId": "d4b9425c-f2f9-4cd7-ed94-3b050cf827ae"
      },
      "source": [
        "# Score trained model.\n",
        "scores = model.evaluate(x_test, y_test, verbose=1)\n",
        "print('Test loss:', scores[0])\n",
        "print('Test accuracy:', scores[1])"
      ],
      "execution_count": null,
      "outputs": [
        {
          "output_type": "stream",
          "name": "stdout",
          "text": [
            "313/313 [==============================] - 6s 20ms/step - loss: 0.4760 - accuracy: 0.9116\n",
            "Test loss: 0.47604554891586304\n",
            "Test accuracy: 0.9115999937057495\n"
          ]
        }
      ]
    },
    {
      "cell_type": "markdown",
      "metadata": {
        "id": "1sZoSk8rvWcZ"
      },
      "source": [
        "# Summary\n",
        "\n",
        "Implementing this code gave me a better understanding of the structure of the ResNet model and how the skip connections allow for high performance with a large number of layers. The large amount of layers are likely helpful in the case of Cifar-10 as the images are more complex compared to MNIST.\n",
        "\n",
        "The test accuracy for this model of 0.9116 was fairly similar to the test accuracy of the model using random erasing in the original code. Following this I feel mode confident I can implement random erasing with other models and will next evaluate it's use with a MLP-Mixer model."
      ]
    }
  ]
}