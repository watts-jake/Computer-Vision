{
  "nbformat": 4,
  "nbformat_minor": 0,
  "metadata": {
    "colab": {
      "name": "Attack_Augmentation.ipynb",
      "provenance": []
    },
    "kernelspec": {
      "name": "python3",
      "display_name": "Python 3"
    },
    "language_info": {
      "name": "python"
    },
    "accelerator": "GPU"
  },
  "cells": [
    {
      "cell_type": "markdown",
      "metadata": {
        "id": "bBaYAOf5CvJa"
      },
      "source": [
        "# Biweekly Report 4\n",
        "\n",
        "# Jake Watts\n",
        "\n",
        "# Data Augmention + Attack"
      ]
    },
    {
      "cell_type": "markdown",
      "metadata": {
        "id": "T63RvW7fitin"
      },
      "source": [
        "Since the trained model I used to evaluate the attack was trained without data augmentation, I decided to re-train it using data augmentation techniques. These techniques can generally improve model performance and prevent overfitting, however in this report I would like to test if these methods improve robustness against the Fast Sign Gradient Method.\n",
        "\n",
        "The data augmentation used in this report includes horizontal flipping, horizontal and vertical flipping and pixel erasing randomly applied to the training data for the Xception model. After training thte network I compare the accuracy on testing data with non perturbed images and then perturbed images with epsilon values of .01 and .001 to compare whether the effects are at all mitigated by training with augmented data."
      ]
    },
    {
      "cell_type": "code",
      "metadata": {
        "id": "gS3yEAM5Cjvz"
      },
      "source": [
        "import tensorflow as tf\n",
        "from tensorflow.keras.layers import Input, Dense, Conv2D, Add\n",
        "from tensorflow.keras.layers import SeparableConv2D, ReLU, ELU\n",
        "from tensorflow.keras.layers import BatchNormalization, MaxPool2D\n",
        "from tensorflow.keras.layers import GlobalAvgPool2D\n",
        "from tensorflow.keras.utils import to_categorical\n",
        "from tensorflow.keras.utils import plot_model\n",
        "from tensorflow.keras.models import load_model\n",
        "from keras.callbacks import ModelCheckpoint, ReduceLROnPlateau, EarlyStopping\n",
        "from keras.preprocessing.image import ImageDataGenerator\n",
        "from tensorflow.keras import Model\n",
        "from keras.datasets import cifar10\n",
        "import matplotlib.pyplot as plt\n",
        "from google.colab import drive\n",
        "import numpy as np"
      ],
      "execution_count": 10,
      "outputs": []
    },
    {
      "cell_type": "markdown",
      "metadata": {
        "id": "kh82evIPj4F-"
      },
      "source": [
        "Mounting Google Drive and loading data."
      ]
    },
    {
      "cell_type": "code",
      "metadata": {
        "colab": {
          "base_uri": "https://localhost:8080/"
        },
        "id": "WwIjGNQUDxsP",
        "outputId": "539494b2-2d0e-4510-fe77-d5437e2de5d1"
      },
      "source": [
        "drive.mount('/content/gdrive')"
      ],
      "execution_count": 2,
      "outputs": [
        {
          "output_type": "stream",
          "name": "stdout",
          "text": [
            "Mounted at /content/gdrive\n"
          ]
        }
      ]
    },
    {
      "cell_type": "code",
      "metadata": {
        "id": "coZqtVW5D2pI"
      },
      "source": [
        "def load_data():\n",
        "  (x_train, y_train), (x_test, y_test) = cifar10.load_data()\n",
        "  x_train = x_train.astype('float32') / 255\n",
        "  x_test = x_test.astype('float32') / 255\n",
        "  y_train = to_categorical(y_train, 10)\n",
        "  y_test = to_categorical(y_test, 10)\n",
        "  return (x_train, y_train), (x_test, y_test)"
      ],
      "execution_count": 3,
      "outputs": []
    },
    {
      "cell_type": "markdown",
      "metadata": {
        "id": "1B--oX6YlBWF"
      },
      "source": [
        "Function for random erasing to be applied to the training data."
      ]
    },
    {
      "cell_type": "code",
      "metadata": {
        "id": "y-5-V2XZFBuN"
      },
      "source": [
        "def get_random_eraser(p=0.5, s_l=0.02, s_h=0.4, r_1=0.3, r_2=1/0.3, v_l=0, v_h=255, pixel_level=False):\n",
        "    def eraser(input_img):\n",
        "        if input_img.ndim == 3:\n",
        "            img_h, img_w, img_c = input_img.shape\n",
        "        elif input_img.ndim == 2:\n",
        "            img_h, img_w = input_img.shape\n",
        "\n",
        "        p_1 = np.random.rand()\n",
        "\n",
        "        if p_1 > p:\n",
        "            return input_img\n",
        "\n",
        "        while True:\n",
        "            s = np.random.uniform(s_l, s_h) * img_h * img_w\n",
        "            r = np.random.uniform(r_1, r_2)\n",
        "            w = int(np.sqrt(s / r))\n",
        "            h = int(np.sqrt(s * r))\n",
        "            left = np.random.randint(0, img_w)\n",
        "            top = np.random.randint(0, img_h)\n",
        "\n",
        "            if left + w <= img_w and top + h <= img_h:\n",
        "                break\n",
        "\n",
        "        if pixel_level:\n",
        "            if input_img.ndim == 3:\n",
        "                c = np.random.uniform(v_l, v_h, (h, w, img_c))\n",
        "            if input_img.ndim == 2:\n",
        "                c = np.random.uniform(v_l, v_h, (h, w))\n",
        "        else:\n",
        "            c = np.random.uniform(v_l, v_h)\n",
        "\n",
        "        input_img[top:top + h, left:left + w] = c\n",
        "\n",
        "        return input_img\n",
        "\n",
        "    return eraser"
      ],
      "execution_count": 4,
      "outputs": []
    },
    {
      "cell_type": "markdown",
      "metadata": {
        "id": "RkpBWGX2lJql"
      },
      "source": [
        "Loading training and testing data."
      ]
    },
    {
      "cell_type": "code",
      "metadata": {
        "colab": {
          "base_uri": "https://localhost:8080/"
        },
        "id": "yPrFQOa5D5tf",
        "outputId": "27f06d37-03f5-48ea-c1bb-581e5d1e4153"
      },
      "source": [
        "(x_train, y_train), (x_test, y_test) = load_data()"
      ],
      "execution_count": 5,
      "outputs": [
        {
          "output_type": "stream",
          "name": "stdout",
          "text": [
            "Downloading data from https://www.cs.toronto.edu/~kriz/cifar-10-python.tar.gz\n",
            "170500096/170498071 [==============================] - 11s 0us/step\n",
            "170508288/170498071 [==============================] - 11s 0us/step\n"
          ]
        }
      ]
    },
    {
      "cell_type": "markdown",
      "metadata": {
        "id": "EFLtHaI-lOQk"
      },
      "source": [
        "Functions for convolution and seperable convolutions."
      ]
    },
    {
      "cell_type": "code",
      "metadata": {
        "id": "XLUxskxHD6n4"
      },
      "source": [
        "def conv_bn(x, filters, kernel_size, strides=1):\n",
        "    \n",
        "    x = Conv2D(filters=filters, \n",
        "               kernel_size = kernel_size, \n",
        "               strides=strides, \n",
        "               padding = 'same', \n",
        "               use_bias = False)(x)\n",
        "    x = BatchNormalization()(x)\n",
        "    return x\n",
        "# creating separableConv-Batch Norm block\n",
        "\n",
        "def sep_bn(x, filters, kernel_size, strides=1):\n",
        "    \n",
        "    x = SeparableConv2D(filters=filters, \n",
        "                        kernel_size = kernel_size, \n",
        "                        strides=strides, \n",
        "                        padding = 'same', \n",
        "                        use_bias = False)(x)\n",
        "    x = BatchNormalization()(x)\n",
        "    return x"
      ],
      "execution_count": 6,
      "outputs": []
    },
    {
      "cell_type": "markdown",
      "metadata": {
        "id": "nHn4UztHlW-T"
      },
      "source": [
        "Defining the shortened version of the Xception architecture which performed the best in my previous biweekly report."
      ]
    },
    {
      "cell_type": "code",
      "metadata": {
        "id": "CDA0omFlEA7C"
      },
      "source": [
        "def entry_flow(x):\n",
        "    \n",
        "    x = conv_bn(x, filters =32, kernel_size =3, strides=2)\n",
        "    x = ELU()(x)\n",
        "    x = conv_bn(x, filters =64, kernel_size =3, strides=1)\n",
        "    tensor = ELU()(x)\n",
        "    \n",
        "    x = sep_bn(tensor, filters = 128, kernel_size =3)\n",
        "    x = ELU()(x)\n",
        "    x = sep_bn(x, filters = 128, kernel_size =3)\n",
        "    x = MaxPool2D(pool_size=3, strides=2, padding = 'same')(x)\n",
        "    \n",
        "    tensor = conv_bn(tensor, filters=128, kernel_size = 1,strides=2)\n",
        "    x = Add()([tensor,x])\n",
        "    \n",
        "    x = ELU()(x)\n",
        "    x = sep_bn(x, filters =256, kernel_size=3)\n",
        "    x = ELU()(x)\n",
        "    x = sep_bn(x, filters =256, kernel_size=3)\n",
        "    x = MaxPool2D(pool_size=3, strides=2, padding = 'same')(x)\n",
        "    \n",
        "    tensor = conv_bn(tensor, filters=256, kernel_size = 1,strides=2)\n",
        "    x = Add()([tensor,x])\n",
        "    \n",
        "    x = ELU()(x)\n",
        "    x = sep_bn(x, filters =728, kernel_size=3)\n",
        "    x = ELU()(x)\n",
        "    x = sep_bn(x, filters =728, kernel_size=3)\n",
        "    x = MaxPool2D(pool_size=3, strides=2, padding = 'same')(x)\n",
        "    \n",
        "    tensor = conv_bn(tensor, filters=728, kernel_size = 1,strides=2)\n",
        "    x = Add()([tensor,x])\n",
        "    return x\n",
        "# middle flow\n",
        "\n",
        "def middle_flow(tensor):\n",
        "    \n",
        "    for _ in range(8):\n",
        "        x = ELU()(tensor)\n",
        "        x = sep_bn(x, filters = 728, kernel_size = 3)\n",
        "        x = ELU()(x)\n",
        "        x = sep_bn(x, filters = 728, kernel_size = 3)\n",
        "        x = ELU()(x)\n",
        "        x = sep_bn(x, filters = 728, kernel_size = 3)\n",
        "        x = ELU()(x)\n",
        "        tensor = Add()([tensor,x])\n",
        "        \n",
        "        return tensor\n",
        "# exit flow\n",
        "\n",
        "def exit_flow(tensor):\n",
        "    x = GlobalAvgPool2D()(tensor)\n",
        "    \n",
        "    x = Dense (units = 10, activation = 'softmax')(x)\n",
        "    \n",
        "    return x"
      ],
      "execution_count": 7,
      "outputs": []
    },
    {
      "cell_type": "markdown",
      "metadata": {
        "id": "8Rpn-bXVlmom"
      },
      "source": [
        "Defining model."
      ]
    },
    {
      "cell_type": "code",
      "metadata": {
        "id": "u6yCqg5-EDxE"
      },
      "source": [
        "input = Input(shape = (32,32,3))\n",
        "x = entry_flow(input)\n",
        "x = middle_flow(x)\n",
        "output = exit_flow(x)\n",
        "\n",
        "model = Model (inputs=input, outputs=output)"
      ],
      "execution_count": 8,
      "outputs": []
    },
    {
      "cell_type": "markdown",
      "metadata": {
        "id": "5_L05OXxloZr"
      },
      "source": [
        "Setting filepath to save model and defining callbacks options to save the best model, reduce the learning rate if the model is not imporving and end the training if the model is still not improving."
      ]
    },
    {
      "cell_type": "code",
      "metadata": {
        "id": "3Ue4ljlWG1Fv"
      },
      "source": [
        "filepath = '/content/gdrive/My Drive/cifar10_xception_aug.h5'\n",
        "\n",
        "checkpoint = ModelCheckpoint(filepath=filepath,\n",
        "                             verbose=1,\n",
        "                             save_best_only=True)\n",
        "lr_reducer = ReduceLROnPlateau(factor=np.sqrt(0.1),\n",
        "                               cooldown=0,\n",
        "                               patience=5,\n",
        "                               min_lr=0.5e-6)\n",
        "es = EarlyStopping(\n",
        "    monitor=\"val_loss\",\n",
        "    min_delta=0,\n",
        "    patience=10)\n",
        "\n",
        "callbacks = [checkpoint, lr_reducer, es]"
      ],
      "execution_count": 12,
      "outputs": []
    },
    {
      "cell_type": "markdown",
      "metadata": {
        "id": "rjkb8BX_mGY0"
      },
      "source": [
        "Defining the image data generator to augment training images."
      ]
    },
    {
      "cell_type": "code",
      "metadata": {
        "id": "F0riQ5-OFd5J"
      },
      "source": [
        "datagen = ImageDataGenerator(\n",
        "    featurewise_center=False,  # set input mean to 0 over the dataset\n",
        "    samplewise_center=False,  # set each sample mean to 0\n",
        "    featurewise_std_normalization=False,  # divide inputs by std of the dataset\n",
        "    samplewise_std_normalization=False,  # divide each input by its std\n",
        "    zca_whitening=False,  # apply ZCA whitening\n",
        "    rotation_range=0,  # randomly rotate images in the range (degrees, 0 to 180)\n",
        "    width_shift_range=0.1,  # randomly shift images horizontally (fraction of total width)\n",
        "    height_shift_range=0.1,  # randomly shift images vertically (fraction of total height)\n",
        "    horizontal_flip=True,  # randomly flip images\n",
        "    vertical_flip=False,  # randomly flip images\n",
        "    preprocessing_function=get_random_eraser(v_l=0, v_h=1, pixel_level=False))"
      ],
      "execution_count": 11,
      "outputs": []
    },
    {
      "cell_type": "markdown",
      "metadata": {
        "id": "YMruxWeJmJ7B"
      },
      "source": [
        "Compiling and training the model."
      ]
    },
    {
      "cell_type": "code",
      "metadata": {
        "colab": {
          "base_uri": "https://localhost:8080/"
        },
        "id": "fhpCQWJ_FmfC",
        "outputId": "d935a698-3955-45e8-e0e9-783d66ecf8e4"
      },
      "source": [
        "datagen.fit(x_train)\n",
        "\n",
        "model.compile(loss='categorical_crossentropy', optimizer='adam', metrics=['accuracy'])\n",
        "\n",
        "# Fit the model on the batches generated by datagen.flow().\n",
        "h_callback = model.fit(datagen.flow(x_train, y_train, batch_size=32),\n",
        "                       validation_data=(x_test, y_test),\n",
        "                       epochs=50,\n",
        "                       callbacks=callbacks)"
      ],
      "execution_count": 13,
      "outputs": [
        {
          "output_type": "stream",
          "name": "stdout",
          "text": [
            "Epoch 1/50\n",
            "1563/1563 [==============================] - 57s 25ms/step - loss: 1.5191 - accuracy: 0.4741 - val_loss: 1.4275 - val_accuracy: 0.5536\n",
            "\n",
            "Epoch 00001: val_loss improved from inf to 1.42753, saving model to /content/gdrive/My Drive/cifar10_xception_aug.h5\n"
          ]
        },
        {
          "output_type": "stream",
          "name": "stderr",
          "text": [
            "/usr/local/lib/python3.7/dist-packages/keras/utils/generic_utils.py:497: CustomMaskWarning: Custom mask layers require a config and must override get_config. When loading, the custom mask layer must be passed to the custom_objects argument.\n",
            "  category=CustomMaskWarning)\n"
          ]
        },
        {
          "output_type": "stream",
          "name": "stdout",
          "text": [
            "Epoch 2/50\n",
            "1563/1563 [==============================] - 38s 24ms/step - loss: 1.1257 - accuracy: 0.6029 - val_loss: 1.4374 - val_accuracy: 0.5670\n",
            "\n",
            "Epoch 00002: val_loss did not improve from 1.42753\n",
            "Epoch 3/50\n",
            "1563/1563 [==============================] - 37s 24ms/step - loss: 0.9811 - accuracy: 0.6563 - val_loss: 0.9108 - val_accuracy: 0.6902\n",
            "\n",
            "Epoch 00003: val_loss improved from 1.42753 to 0.91077, saving model to /content/gdrive/My Drive/cifar10_xception_aug.h5\n",
            "Epoch 4/50\n",
            "1563/1563 [==============================] - 38s 24ms/step - loss: 0.8959 - accuracy: 0.6860 - val_loss: 0.8033 - val_accuracy: 0.7272\n",
            "\n",
            "Epoch 00004: val_loss improved from 0.91077 to 0.80332, saving model to /content/gdrive/My Drive/cifar10_xception_aug.h5\n",
            "Epoch 5/50\n",
            "1563/1563 [==============================] - 39s 25ms/step - loss: 0.8284 - accuracy: 0.7107 - val_loss: 0.7522 - val_accuracy: 0.7454\n",
            "\n",
            "Epoch 00005: val_loss improved from 0.80332 to 0.75220, saving model to /content/gdrive/My Drive/cifar10_xception_aug.h5\n",
            "Epoch 6/50\n",
            "1563/1563 [==============================] - 39s 25ms/step - loss: 0.7742 - accuracy: 0.7293 - val_loss: 0.6897 - val_accuracy: 0.7676\n",
            "\n",
            "Epoch 00006: val_loss improved from 0.75220 to 0.68965, saving model to /content/gdrive/My Drive/cifar10_xception_aug.h5\n",
            "Epoch 7/50\n",
            "1563/1563 [==============================] - 39s 25ms/step - loss: 0.7328 - accuracy: 0.7440 - val_loss: 0.6630 - val_accuracy: 0.7810\n",
            "\n",
            "Epoch 00007: val_loss improved from 0.68965 to 0.66303, saving model to /content/gdrive/My Drive/cifar10_xception_aug.h5\n",
            "Epoch 8/50\n",
            "1563/1563 [==============================] - 37s 24ms/step - loss: 0.6999 - accuracy: 0.7573 - val_loss: 0.6078 - val_accuracy: 0.7958\n",
            "\n",
            "Epoch 00008: val_loss improved from 0.66303 to 0.60784, saving model to /content/gdrive/My Drive/cifar10_xception_aug.h5\n",
            "Epoch 9/50\n",
            "1563/1563 [==============================] - 37s 24ms/step - loss: 0.6636 - accuracy: 0.7682 - val_loss: 0.6041 - val_accuracy: 0.7948\n",
            "\n",
            "Epoch 00009: val_loss improved from 0.60784 to 0.60411, saving model to /content/gdrive/My Drive/cifar10_xception_aug.h5\n",
            "Epoch 10/50\n",
            "1563/1563 [==============================] - 38s 24ms/step - loss: 0.6419 - accuracy: 0.7775 - val_loss: 0.5885 - val_accuracy: 0.8025\n",
            "\n",
            "Epoch 00010: val_loss improved from 0.60411 to 0.58853, saving model to /content/gdrive/My Drive/cifar10_xception_aug.h5\n",
            "Epoch 11/50\n",
            "1563/1563 [==============================] - 38s 24ms/step - loss: 0.6147 - accuracy: 0.7852 - val_loss: 0.5968 - val_accuracy: 0.8055\n",
            "\n",
            "Epoch 00011: val_loss did not improve from 0.58853\n",
            "Epoch 12/50\n",
            "1563/1563 [==============================] - 39s 25ms/step - loss: 0.5898 - accuracy: 0.7950 - val_loss: 0.5427 - val_accuracy: 0.8182\n",
            "\n",
            "Epoch 00012: val_loss improved from 0.58853 to 0.54266, saving model to /content/gdrive/My Drive/cifar10_xception_aug.h5\n",
            "Epoch 13/50\n",
            "1563/1563 [==============================] - 37s 24ms/step - loss: 0.5692 - accuracy: 0.8020 - val_loss: 0.5507 - val_accuracy: 0.8105\n",
            "\n",
            "Epoch 00013: val_loss did not improve from 0.54266\n",
            "Epoch 14/50\n",
            "1563/1563 [==============================] - 39s 25ms/step - loss: 0.5476 - accuracy: 0.8092 - val_loss: 0.5606 - val_accuracy: 0.8105\n",
            "\n",
            "Epoch 00014: val_loss did not improve from 0.54266\n",
            "Epoch 15/50\n",
            "1563/1563 [==============================] - 39s 25ms/step - loss: 0.5324 - accuracy: 0.8140 - val_loss: 0.5943 - val_accuracy: 0.8117\n",
            "\n",
            "Epoch 00015: val_loss did not improve from 0.54266\n",
            "Epoch 16/50\n",
            "1563/1563 [==============================] - 38s 24ms/step - loss: 0.5167 - accuracy: 0.8183 - val_loss: 0.5156 - val_accuracy: 0.8264\n",
            "\n",
            "Epoch 00016: val_loss improved from 0.54266 to 0.51562, saving model to /content/gdrive/My Drive/cifar10_xception_aug.h5\n",
            "Epoch 17/50\n",
            "1563/1563 [==============================] - 39s 25ms/step - loss: 0.5116 - accuracy: 0.8218 - val_loss: 0.5122 - val_accuracy: 0.8309\n",
            "\n",
            "Epoch 00017: val_loss improved from 0.51562 to 0.51220, saving model to /content/gdrive/My Drive/cifar10_xception_aug.h5\n",
            "Epoch 18/50\n",
            "1563/1563 [==============================] - 38s 24ms/step - loss: 0.4919 - accuracy: 0.8300 - val_loss: 0.5016 - val_accuracy: 0.8344\n",
            "\n",
            "Epoch 00018: val_loss improved from 0.51220 to 0.50161, saving model to /content/gdrive/My Drive/cifar10_xception_aug.h5\n",
            "Epoch 19/50\n",
            "1563/1563 [==============================] - 38s 24ms/step - loss: 0.4840 - accuracy: 0.8294 - val_loss: 0.4670 - val_accuracy: 0.8462\n",
            "\n",
            "Epoch 00019: val_loss improved from 0.50161 to 0.46699, saving model to /content/gdrive/My Drive/cifar10_xception_aug.h5\n",
            "Epoch 20/50\n",
            "1563/1563 [==============================] - 38s 24ms/step - loss: 0.4719 - accuracy: 0.8359 - val_loss: 0.5496 - val_accuracy: 0.8212\n",
            "\n",
            "Epoch 00020: val_loss did not improve from 0.46699\n",
            "Epoch 21/50\n",
            "1563/1563 [==============================] - 38s 24ms/step - loss: 0.4580 - accuracy: 0.8401 - val_loss: 0.4641 - val_accuracy: 0.8464\n",
            "\n",
            "Epoch 00021: val_loss improved from 0.46699 to 0.46410, saving model to /content/gdrive/My Drive/cifar10_xception_aug.h5\n",
            "Epoch 22/50\n",
            "1563/1563 [==============================] - 38s 24ms/step - loss: 0.4479 - accuracy: 0.8435 - val_loss: 0.4690 - val_accuracy: 0.8456\n",
            "\n",
            "Epoch 00022: val_loss did not improve from 0.46410\n",
            "Epoch 23/50\n",
            "1563/1563 [==============================] - 38s 24ms/step - loss: 0.4361 - accuracy: 0.8480 - val_loss: 0.4728 - val_accuracy: 0.8472\n",
            "\n",
            "Epoch 00023: val_loss did not improve from 0.46410\n",
            "Epoch 24/50\n",
            "1563/1563 [==============================] - 38s 24ms/step - loss: 0.4270 - accuracy: 0.8504 - val_loss: 0.4568 - val_accuracy: 0.8483\n",
            "\n",
            "Epoch 00024: val_loss improved from 0.46410 to 0.45680, saving model to /content/gdrive/My Drive/cifar10_xception_aug.h5\n",
            "Epoch 25/50\n",
            "1563/1563 [==============================] - 38s 24ms/step - loss: 0.4204 - accuracy: 0.8524 - val_loss: 0.5400 - val_accuracy: 0.8269\n",
            "\n",
            "Epoch 00025: val_loss did not improve from 0.45680\n",
            "Epoch 26/50\n",
            "1563/1563 [==============================] - 39s 25ms/step - loss: 0.4137 - accuracy: 0.8552 - val_loss: 0.4459 - val_accuracy: 0.8545\n",
            "\n",
            "Epoch 00026: val_loss improved from 0.45680 to 0.44588, saving model to /content/gdrive/My Drive/cifar10_xception_aug.h5\n",
            "Epoch 27/50\n",
            "1563/1563 [==============================] - 39s 25ms/step - loss: 0.4015 - accuracy: 0.8580 - val_loss: 0.4539 - val_accuracy: 0.8529\n",
            "\n",
            "Epoch 00027: val_loss did not improve from 0.44588\n",
            "Epoch 28/50\n",
            "1563/1563 [==============================] - 38s 24ms/step - loss: 0.3968 - accuracy: 0.8608 - val_loss: 0.4372 - val_accuracy: 0.8591\n",
            "\n",
            "Epoch 00028: val_loss improved from 0.44588 to 0.43716, saving model to /content/gdrive/My Drive/cifar10_xception_aug.h5\n",
            "Epoch 29/50\n",
            "1563/1563 [==============================] - 39s 25ms/step - loss: 0.3867 - accuracy: 0.8654 - val_loss: 0.5109 - val_accuracy: 0.8418\n",
            "\n",
            "Epoch 00029: val_loss did not improve from 0.43716\n",
            "Epoch 30/50\n",
            "1563/1563 [==============================] - 39s 25ms/step - loss: 0.3833 - accuracy: 0.8650 - val_loss: 0.4728 - val_accuracy: 0.8439\n",
            "\n",
            "Epoch 00030: val_loss did not improve from 0.43716\n",
            "Epoch 31/50\n",
            "1563/1563 [==============================] - 38s 24ms/step - loss: 0.3743 - accuracy: 0.8688 - val_loss: 0.4542 - val_accuracy: 0.8539\n",
            "\n",
            "Epoch 00031: val_loss did not improve from 0.43716\n",
            "Epoch 32/50\n",
            "1563/1563 [==============================] - 38s 24ms/step - loss: 0.3664 - accuracy: 0.8704 - val_loss: 0.5029 - val_accuracy: 0.8440\n",
            "\n",
            "Epoch 00032: val_loss did not improve from 0.43716\n",
            "Epoch 33/50\n",
            "1563/1563 [==============================] - 38s 24ms/step - loss: 0.3611 - accuracy: 0.8721 - val_loss: 0.4729 - val_accuracy: 0.8528\n",
            "\n",
            "Epoch 00033: val_loss did not improve from 0.43716\n",
            "Epoch 34/50\n",
            "1563/1563 [==============================] - 38s 24ms/step - loss: 0.2981 - accuracy: 0.8962 - val_loss: 0.3987 - val_accuracy: 0.8748\n",
            "\n",
            "Epoch 00034: val_loss improved from 0.43716 to 0.39870, saving model to /content/gdrive/My Drive/cifar10_xception_aug.h5\n",
            "Epoch 35/50\n",
            "1563/1563 [==============================] - 38s 24ms/step - loss: 0.2745 - accuracy: 0.9040 - val_loss: 0.3940 - val_accuracy: 0.8731\n",
            "\n",
            "Epoch 00035: val_loss improved from 0.39870 to 0.39396, saving model to /content/gdrive/My Drive/cifar10_xception_aug.h5\n",
            "Epoch 36/50\n",
            "1563/1563 [==============================] - 38s 24ms/step - loss: 0.2600 - accuracy: 0.9082 - val_loss: 0.4163 - val_accuracy: 0.8721\n",
            "\n",
            "Epoch 00036: val_loss did not improve from 0.39396\n",
            "Epoch 37/50\n",
            "1563/1563 [==============================] - 38s 24ms/step - loss: 0.2555 - accuracy: 0.9109 - val_loss: 0.3994 - val_accuracy: 0.8767\n",
            "\n",
            "Epoch 00037: val_loss did not improve from 0.39396\n",
            "Epoch 38/50\n",
            "1563/1563 [==============================] - 38s 24ms/step - loss: 0.2493 - accuracy: 0.9114 - val_loss: 0.3936 - val_accuracy: 0.8783\n",
            "\n",
            "Epoch 00038: val_loss improved from 0.39396 to 0.39358, saving model to /content/gdrive/My Drive/cifar10_xception_aug.h5\n",
            "Epoch 39/50\n",
            "1563/1563 [==============================] - 38s 24ms/step - loss: 0.2416 - accuracy: 0.9160 - val_loss: 0.3899 - val_accuracy: 0.8799\n",
            "\n",
            "Epoch 00039: val_loss improved from 0.39358 to 0.38995, saving model to /content/gdrive/My Drive/cifar10_xception_aug.h5\n",
            "Epoch 40/50\n",
            "1563/1563 [==============================] - 39s 25ms/step - loss: 0.2381 - accuracy: 0.9159 - val_loss: 0.4014 - val_accuracy: 0.8769\n",
            "\n",
            "Epoch 00040: val_loss did not improve from 0.38995\n",
            "Epoch 41/50\n",
            "1563/1563 [==============================] - 38s 25ms/step - loss: 0.2305 - accuracy: 0.9187 - val_loss: 0.4061 - val_accuracy: 0.8774\n",
            "\n",
            "Epoch 00041: val_loss did not improve from 0.38995\n",
            "Epoch 42/50\n",
            "1563/1563 [==============================] - 38s 24ms/step - loss: 0.2333 - accuracy: 0.9184 - val_loss: 0.4000 - val_accuracy: 0.8791\n",
            "\n",
            "Epoch 00042: val_loss did not improve from 0.38995\n",
            "Epoch 43/50\n",
            "1563/1563 [==============================] - 38s 24ms/step - loss: 0.2250 - accuracy: 0.9210 - val_loss: 0.4210 - val_accuracy: 0.8735\n",
            "\n",
            "Epoch 00043: val_loss did not improve from 0.38995\n",
            "Epoch 44/50\n",
            "1563/1563 [==============================] - 39s 25ms/step - loss: 0.2167 - accuracy: 0.9242 - val_loss: 0.4066 - val_accuracy: 0.8788\n",
            "\n",
            "Epoch 00044: val_loss did not improve from 0.38995\n",
            "Epoch 45/50\n",
            "1563/1563 [==============================] - 39s 25ms/step - loss: 0.2041 - accuracy: 0.9280 - val_loss: 0.3893 - val_accuracy: 0.8799\n",
            "\n",
            "Epoch 00045: val_loss improved from 0.38995 to 0.38931, saving model to /content/gdrive/My Drive/cifar10_xception_aug.h5\n",
            "Epoch 46/50\n",
            "1563/1563 [==============================] - 38s 24ms/step - loss: 0.1980 - accuracy: 0.9314 - val_loss: 0.3975 - val_accuracy: 0.8801\n",
            "\n",
            "Epoch 00046: val_loss did not improve from 0.38931\n",
            "Epoch 47/50\n",
            "1563/1563 [==============================] - 38s 24ms/step - loss: 0.1981 - accuracy: 0.9305 - val_loss: 0.3898 - val_accuracy: 0.8801\n",
            "\n",
            "Epoch 00047: val_loss did not improve from 0.38931\n",
            "Epoch 48/50\n",
            "1563/1563 [==============================] - 38s 24ms/step - loss: 0.1944 - accuracy: 0.9326 - val_loss: 0.3855 - val_accuracy: 0.8835\n",
            "\n",
            "Epoch 00048: val_loss improved from 0.38931 to 0.38550, saving model to /content/gdrive/My Drive/cifar10_xception_aug.h5\n",
            "Epoch 49/50\n",
            "1563/1563 [==============================] - 38s 24ms/step - loss: 0.1862 - accuracy: 0.9360 - val_loss: 0.3924 - val_accuracy: 0.8828\n",
            "\n",
            "Epoch 00049: val_loss did not improve from 0.38550\n",
            "Epoch 50/50\n",
            "1563/1563 [==============================] - 38s 24ms/step - loss: 0.1887 - accuracy: 0.9351 - val_loss: 0.3923 - val_accuracy: 0.8833\n",
            "\n",
            "Epoch 00050: val_loss did not improve from 0.38550\n"
          ]
        }
      ]
    },
    {
      "cell_type": "markdown",
      "metadata": {
        "id": "vm_ECjOtrBJz"
      },
      "source": [
        "Adding data augmentation appears to help the problem I was had in my last biweekly report in which the training accuracy increased to 100% within the first 10 or so epochs while the validation accuracy tended to peak around 75-80%.\n",
        "\n",
        "In the graph below we can see that the validation accuracy tendes to stay closer to the validation accuracy with the largest gap between the two being about 5-6% as opposed to 25-30% in the last report. Adding data augmentation therfore appears to have been very helpful for model peformance."
      ]
    },
    {
      "cell_type": "code",
      "metadata": {
        "colab": {
          "base_uri": "https://localhost:8080/",
          "height": 295
        },
        "id": "O7bd-zEcmYCY",
        "outputId": "2e3a876f-e8d3-4ec8-af23-594d23edc874"
      },
      "source": [
        "plt.figure()\n",
        "plt.plot(h_callback.history['accuracy'])\n",
        "plt.plot(h_callback.history['val_accuracy'])\n",
        "plt.title('Model Accuracy')\n",
        "plt.ylabel('Accuracy')\n",
        "plt.xlabel('Epoch')\n",
        "plt.legend(['Training', 'Validation'], loc='lower right')\n",
        "plt.show()"
      ],
      "execution_count": 14,
      "outputs": [
        {
          "output_type": "display_data",
          "data": {
            "image/png": "[encoded data removed]",
            "text/plain": [
              "<Figure size 432x288 with 1 Axes>"
            ]
          },
          "metadata": {
            "needs_background": "light"
          }
        }
      ]
    },
    {
      "cell_type": "markdown",
      "metadata": {
        "id": "ppCnB1RJsLw1"
      },
      "source": [
        "The accuracy of this model is 88% which is a large improvement over the 80% accuracy without any data augmentation."
      ]
    },
    {
      "cell_type": "code",
      "metadata": {
        "colab": {
          "base_uri": "https://localhost:8080/"
        },
        "id": "oE7VdU2pnpx-",
        "outputId": "cc8ad6d3-e6ab-47f5-df7e-171e11056a41"
      },
      "source": [
        "model.evaluate(x_test, y_test)"
      ],
      "execution_count": 15,
      "outputs": [
        {
          "output_type": "stream",
          "name": "stdout",
          "text": [
            "313/313 [==============================] - 2s 5ms/step - loss: 0.3923 - accuracy: 0.8833\n"
          ]
        },
        {
          "output_type": "execute_result",
          "data": {
            "text/plain": [
              "[0.3923356235027313, 0.8833000063896179]"
            ]
          },
          "metadata": {},
          "execution_count": 15
        }
      ]
    },
    {
      "cell_type": "markdown",
      "metadata": {
        "id": "AytWNEhCoBzH"
      },
      "source": [
        "Now we can see if the data aumentation helps the performance of the model against the Fast Sign Gradient Method. The code below is the function top create the adversial pattern."
      ]
    },
    {
      "cell_type": "code",
      "metadata": {
        "id": "wrIFztKbslAX"
      },
      "source": [
        "loss_object = tf.keras.losses.CategoricalCrossentropy()\n",
        "\n",
        "def create_adversarial_pattern(input_image, input_label):\n",
        "  with tf.GradientTape() as tape:\n",
        "    tape.watch(input_image)\n",
        "    prediction = model(input_image)\n",
        "    loss = loss_object(input_label, prediction)\n",
        "\n",
        "  # Get the gradients of the loss w.r.t to the input image.\n",
        "  gradient = tape.gradient(loss, input_image)\n",
        "  # Get the sign of the gradients to create the perturbation\n",
        "  signed_grad = tf.sign(gradient)\n",
        "  return signed_grad"
      ],
      "execution_count": 16,
      "outputs": []
    },
    {
      "cell_type": "markdown",
      "metadata": {
        "id": "MJw-SGCRs_lc"
      },
      "source": [
        "First I create the pertubred images using the first 1000 images in the training data (the same number used on the model without data augmentation) with an epsilon of 0.01. "
      ]
    },
    {
      "cell_type": "code",
      "metadata": {
        "id": "XUKmgR98mfzK"
      },
      "source": [
        "(x_train, y_train), (x_test, y_test) = load_data()\n",
        "\n",
        "size = 1000\n",
        "x_test_attack = x_test[0:size]\n",
        "\n",
        "for i in range(size):\n",
        "\n",
        "  img = tf.convert_to_tensor(x_test[i:i+1], dtype=tf.float32)\n",
        "  label = tf.convert_to_tensor(y_test[i:i+1], dtype=tf.float32)\n",
        "  perturbations = create_adversarial_pattern(img, label)\n",
        "\n",
        "  epsilon = 0.01\n",
        "\n",
        "  x_test_attack[i] = img + epsilon*perturbations\n",
        "  x_test_attack[i] = tf.clip_by_value(x_test_attack[i], 0, 1)  "
      ],
      "execution_count": 17,
      "outputs": []
    },
    {
      "cell_type": "markdown",
      "metadata": {
        "id": "NWlAOgjWtuFm"
      },
      "source": [
        "The accuracy on the model without data augmentation for this attack was 11.1% and the accuracy for this model is 11%. Therefore adding data augmentantion did not improve the model's performance when attacked. When using an epsilon of 0.01 both models are essentially useless."
      ]
    },
    {
      "cell_type": "code",
      "metadata": {
        "colab": {
          "base_uri": "https://localhost:8080/"
        },
        "id": "toYC-2gqtnXS",
        "outputId": "bd38ee69-b23d-429f-f0ed-765bf96d5eb1"
      },
      "source": [
        "model.evaluate(x_test_attack, y_test[0:size]) "
      ],
      "execution_count": 18,
      "outputs": [
        {
          "output_type": "stream",
          "name": "stdout",
          "text": [
            "32/32 [==============================] - 0s 7ms/step - loss: 7.5002 - accuracy: 0.1100\n"
          ]
        },
        {
          "output_type": "execute_result",
          "data": {
            "text/plain": [
              "[7.500218391418457, 0.10999999940395355]"
            ]
          },
          "metadata": {},
          "execution_count": 18
        }
      ]
    },
    {
      "cell_type": "markdown",
      "metadata": {
        "id": "esVECIo3uJYQ"
      },
      "source": [
        "Now I change the epsilon value to 0.001 and evaluate the accuracy again. The model without data augmentation had an accuracy rate of 72.7% for this level of epsilon while this model with data augmentation has an accuracy rate of 79.7% meaning it performed better. This result makes sense as the model has a higher accuracy without perturbation so it would follow that the accuracy would be higher with slight perturbation."
      ]
    },
    {
      "cell_type": "code",
      "metadata": {
        "colab": {
          "base_uri": "https://localhost:8080/"
        },
        "id": "AH4t0FQRo5Oy",
        "outputId": "aa9fade7-af73-4715-8ae3-628ac227e0f4"
      },
      "source": [
        "(x_train, y_train), (x_test, y_test) = load_data()\n",
        "\n",
        "size = 1000\n",
        "x_test_attack = x_test[0:size]\n",
        "\n",
        "for i in range(size):\n",
        "\n",
        "  img = tf.convert_to_tensor(x_test[i:i+1], dtype=tf.float32)\n",
        "  label = tf.convert_to_tensor(y_test[i:i+1], dtype=tf.float32)\n",
        "  perturbations = create_adversarial_pattern(img, label)\n",
        "\n",
        "  epsilon = 0.001\n",
        "\n",
        "  x_test_attack[i] = img + epsilon*perturbations\n",
        "  x_test_attack[i] = tf.clip_by_value(x_test_attack[i], 0, 1) \n",
        "\n",
        "model.evaluate(x_test_attack, y_test[0:size]) "
      ],
      "execution_count": 19,
      "outputs": [
        {
          "output_type": "stream",
          "name": "stdout",
          "text": [
            "32/32 [==============================] - 0s 5ms/step - loss: 0.7030 - accuracy: 0.7970\n"
          ]
        },
        {
          "output_type": "execute_result",
          "data": {
            "text/plain": [
              "[0.7030179500579834, 0.796999990940094]"
            ]
          },
          "metadata": {},
          "execution_count": 19
        }
      ]
    },
    {
      "cell_type": "markdown",
      "metadata": {
        "id": "WrKekcdJox_W"
      },
      "source": [
        "# Summary\n",
        "\n",
        "While adding data augmentation appeared to increase the Xception model's performance without perturbation, it did not appear to improve the model's resistance to the attack. \n",
        "\n",
        "Since the Fast Sign Gradient Method changes pixels to maximize the loss function based of gradients after forward propogation, I guess it makes sense that simply adding data augmentation would not help much to defend against attacks. Adding in adversarial images created in a similar way would likely do more to defend agaisnt such attacks.\n",
        "\n",
        "Although adding data augmentation did not help defend against the attack, it was still useful as it greatly improved model performance and reduced the gap between training and validation accuracy."
      ]
    }
  ]
}